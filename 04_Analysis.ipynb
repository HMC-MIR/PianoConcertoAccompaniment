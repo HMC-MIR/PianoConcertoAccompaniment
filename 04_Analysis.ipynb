{
 "cells": [
  {
   "cell_type": "markdown",
   "id": "48653ed7",
   "metadata": {},
   "source": [
    "# Analysis"
   ]
  },
  {
   "cell_type": "markdown",
   "id": "64615ac2",
   "metadata": {},
   "source": [
    "This notebook provides several analyses to gain deeper intuition into system performance."
   ]
  },
  {
   "cell_type": "code",
   "execution_count": null,
   "id": "354dbf1e",
   "metadata": {},
   "outputs": [],
   "source": [
    "%matplotlib inline"
   ]
  },
  {
   "cell_type": "code",
   "execution_count": null,
   "id": "20cd5fa0",
   "metadata": {},
   "outputs": [],
   "source": [
    "import numpy as np\n",
    "import matplotlib.pyplot as plt\n",
    "import pickle\n",
    "import IPython.display as ipd\n",
    "import import_ipynb\n",
    "import system_utils"
   ]
  },
  {
   "cell_type": "markdown",
   "id": "2cb4ab1e",
   "metadata": {},
   "source": [
    "## Visualizing errors over time"
   ]
  },
  {
   "cell_type": "markdown",
   "id": "3288f865",
   "metadata": {},
   "source": [
    "The first analysis is to simply visualize the magnitude of alignment errors over time for a specific concerto movement."
   ]
  },
  {
   "cell_type": "code",
   "execution_count": null,
   "id": "47782770",
   "metadata": {},
   "outputs": [],
   "source": [
    "def visualize_errors_over_time(eval_dir, scenarios_summary, fullmix_id):\n",
    "    '''\n",
    "    Visualize the magnitude of alignment error over time for a given full mix recording.  \n",
    "    Measures that are not evaluated will be displayed as having zero error.\n",
    "    \n",
    "    Inputs\n",
    "    eval_dir: the eval directory containing alignment error information\n",
    "    scenarios_summary: filepath specifying the scenarios.summary file\n",
    "    fullmix_id: id specifying the full mix recording of interest, e.g. 'rach2_mov1_PO2'\n",
    "    '''\n",
    "\n",
    "    # parse relevant files\n",
    "    with open(f'{eval_dir}/errs.pkl', 'rb') as f:\n",
    "        errors_info = pickle.load(f) # key: scenario_id, value: (errs, measNums)\n",
    "    scenarios_info = system_utils.get_scenario_info(scenarios_summary) # key: scenario_id, value: dict with scenario info\n",
    "    \n",
    "    # aggregate data to display\n",
    "    data = {} # key: tsm_factor, value: dict whose key is the measure number and whose value is the align error\n",
    "    for scenario_id in scenarios_info:\n",
    "        if fullmix_id in scenarios_info[scenario_id]['po']:\n",
    "            tsm_factor = scenarios_info[scenario_id]['p'].split('/')[-2] # e.g. 'tsm0.80'\n",
    "            errs, measNums = errors_info[scenario_id] # only contains evaluation measures\n",
    "            if tsm_factor not in data:\n",
    "                data[tsm_factor] = {}\n",
    "            for err, measNum in zip(errs, measNums):\n",
    "                data[tsm_factor][measNum] = err\n",
    "    \n",
    "    # display non-evaluated measures as having 0 error\n",
    "    for tsm_factor in data:\n",
    "        maxMeasNum = int(np.max(list(data[tsm_factor].keys())))\n",
    "        for i in range(maxMeasNum):\n",
    "            if i not in data[tsm_factor]:\n",
    "                data[tsm_factor][i] = 0\n",
    "   \n",
    "    # show alignment error vs measure number\n",
    "    fig, axs = plt.subplots(len(data.keys()), sharex=True, sharey=True)\n",
    "    for i, tsm_factor in enumerate(data):\n",
    "        measures = sorted(data[tsm_factor].keys())\n",
    "        errors = [data[tsm_factor][m] for m in measures]\n",
    "        axs[i].plot(measures, errors)\n",
    "        axs[i].set_title(f'{fullmix_id} - {tsm_factor}')\n",
    "        axs[i].grid(linestyle='--')\n",
    "    plt.xlabel('Measure Number')\n",
    "    plt.ylabel('Alignment Error (sec)')\n",
    "    plt.ylim([-2.5, 2.5])\n",
    "    \n",
    "    return data"
   ]
  },
  {
   "cell_type": "code",
   "execution_count": null,
   "id": "1ba41769",
   "metadata": {},
   "outputs": [],
   "source": [
    "EVAL_DIR = 'eval/offlineDTW' # eval directory to visualize\n",
    "SCENARIOS_SUMMARY = 'scenarios/scenarios.summary'"
   ]
  },
  {
   "cell_type": "code",
   "execution_count": null,
   "id": "cdd401af",
   "metadata": {},
   "outputs": [],
   "source": [
    "d = visualize_errors_over_time(EVAL_DIR, SCENARIOS_SUMMARY, fullmix_id = 'mozart21_mov1_PO1')"
   ]
  },
  {
   "cell_type": "code",
   "execution_count": null,
   "id": "2f875140",
   "metadata": {},
   "outputs": [],
   "source": [
    "d = visualize_errors_over_time(EVAL_DIR, SCENARIOS_SUMMARY, fullmix_id = 'mozart21_mov1_PO2')"
   ]
  },
  {
   "cell_type": "markdown",
   "id": "8544043e",
   "metadata": {},
   "source": [
    "## Generating sonifications"
   ]
  },
  {
   "cell_type": "markdown",
   "id": "11ff2755",
   "metadata": {},
   "source": [
    "The second analysis is to sonify estimated alignments.  We generate an audio file that contains an unmodified recording on the left channel and a time-scale modified version of the other recording on the right channel, where time-scale modification is applied in order to synchronize the two recordings."
   ]
  },
  {
   "cell_type": "code",
   "execution_count": null,
   "id": "324083a7",
   "metadata": {},
   "outputs": [],
   "source": [
    "import sonify_tools"
   ]
  },
  {
   "cell_type": "markdown",
   "id": "ab1f2e09",
   "metadata": {},
   "source": [
    "## Sonifying specific alignments"
   ]
  },
  {
   "cell_type": "markdown",
   "id": "62004ea8",
   "metadata": {},
   "source": [
    "The cells below generate sonifications of the P-O, P-PO, and PO-O alignments for a given scenario."
   ]
  },
  {
   "cell_type": "code",
   "execution_count": null,
   "id": "ce02c012",
   "metadata": {},
   "outputs": [],
   "source": [
    "### edit below ###\n",
    "scenario_id = 's29'\n",
    "system_name = 'offlineDTW'\n",
    "downsample = 20\n",
    "sr = 22050\n",
    "hop_samples = 512\n",
    "##################"
   ]
  },
  {
   "cell_type": "code",
   "execution_count": null,
   "id": "402fb802",
   "metadata": {},
   "outputs": [],
   "source": [
    "### sonifying P-O alignment\n",
    "outfile = f'{scenario_id}_p_o_align.wav'\n",
    "hop_len = None # set to None if warping path is already expressed in seconds\n",
    "audiofile1 = f'scenarios/{scenario_id}/p.wav'\n",
    "audiofile2 = f'scenarios/{scenario_id}/o.wav'\n",
    "align_file = f'experiments/{system_name}/{scenario_id}/hyp.npy' # p-o alignment\n",
    "y = sonify_tools.sonifyWithTSMSync(audiofile1, audiofile2, align_file, downsample, hop_len, outfile)"
   ]
  },
  {
   "cell_type": "code",
   "execution_count": null,
   "id": "c622a63e",
   "metadata": {},
   "outputs": [],
   "source": [
    "### sonifying P-PO alignment\n",
    "outfile = f'{scenario_id}_p_po_align.wav'\n",
    "hop_len = hop_samples / sr\n",
    "audiofile1 = f'scenarios/{scenario_id}/p.wav'\n",
    "audiofile2 = f'scenarios/{scenario_id}/po.wav'\n",
    "align_file = f'experiments/{system_name}/{scenario_id}/p_po_align.npy' # p-po alignment\n",
    "y = sonify_tools.sonifyWithTSMSync(audiofile1, audiofile2, align_file, downsample, hop_len, outfile)"
   ]
  },
  {
   "cell_type": "code",
   "execution_count": null,
   "id": "21f3918b",
   "metadata": {},
   "outputs": [],
   "source": [
    "### sonifying PO-O alignment\n",
    "outfile = f'{scenario_id}_po_o_align.wav'\n",
    "hop_len = hop_samples / sr\n",
    "audiofile1 = f'scenarios/{scenario_id}/po.wav'\n",
    "audiofile2 = f'scenarios/{scenario_id}/o.wav'\n",
    "align_file = f'experiments/offlineDTW/cache/mozart21_mov1_O1_PO1/po_o_align.npy' # po-o alignment\n",
    "y = sonify_tools.sonifyWithTSMSync(audiofile1, audiofile2, align_file, downsample, hop_len, outfile)"
   ]
  },
  {
   "cell_type": "markdown",
   "id": "7564533e",
   "metadata": {},
   "source": [
    "Listen to a recording:"
   ]
  },
  {
   "cell_type": "code",
   "execution_count": null,
   "id": "a573ff2c",
   "metadata": {},
   "outputs": [],
   "source": [
    "ipd.Audio(f'{scenario_id}_p_po_align.wav')"
   ]
  },
  {
   "cell_type": "markdown",
   "id": "52370048",
   "metadata": {},
   "source": [
    "## Batch Sonification"
   ]
  },
  {
   "cell_type": "markdown",
   "id": "945b6d01",
   "metadata": {},
   "source": [
    "The following two cells generate P-O sonifications for all scenarios:"
   ]
  },
  {
   "cell_type": "code",
   "execution_count": null,
   "id": "1a874ae5",
   "metadata": {},
   "outputs": [],
   "source": [
    "SCENARIOS_DIR = 'scenarios'\n",
    "EXP_DIR = 'experiments/offlineDTW'\n",
    "SONIFY_DIR = f'{EXP_DIR}/sonify'\n",
    "downsample = 20\n",
    "hop_len = 512./22050"
   ]
  },
  {
   "cell_type": "code",
   "execution_count": null,
   "id": "e443df1c",
   "metadata": {},
   "outputs": [],
   "source": [
    "sonify_tools.sonifyWithTSMSync_batch(SCENARIOS_DIR, EXP_DIR, downsample, hop_len, SONIFY_DIR)"
   ]
  }
 ],
 "metadata": {
  "kernelspec": {
   "display_name": "accompaniment",
   "language": "python",
   "name": "accompaniment"
  },
  "language_info": {
   "codemirror_mode": {
    "name": "ipython",
    "version": 3
   },
   "file_extension": ".py",
   "mimetype": "text/x-python",
   "name": "python",
   "nbconvert_exporter": "python",
   "pygments_lexer": "ipython3",
   "version": "3.7.13"
  }
 },
 "nbformat": 4,
 "nbformat_minor": 5
}
