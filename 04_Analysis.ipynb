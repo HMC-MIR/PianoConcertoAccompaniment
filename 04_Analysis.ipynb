{
 "cells": [
  {
   "cell_type": "markdown",
   "id": "48653ed7",
   "metadata": {},
   "source": [
    "# Analysis"
   ]
  },
  {
   "cell_type": "markdown",
   "id": "64615ac2",
   "metadata": {},
   "source": [
    "This notebook provides several analyses to gain deeper intuition into system performance."
   ]
  },
  {
   "cell_type": "code",
   "execution_count": null,
   "id": "354dbf1e",
   "metadata": {},
   "outputs": [],
   "source": [
    "%matplotlib inline"
   ]
  },
  {
   "cell_type": "code",
   "execution_count": null,
   "id": "20cd5fa0",
   "metadata": {},
   "outputs": [],
   "source": [
    "import numpy as np\n",
    "import matplotlib.pyplot as plt\n",
    "import pickle\n",
    "import os.path\n",
    "import IPython.display as ipd\n",
    "import import_ipynb\n",
    "import system_utils"
   ]
  },
  {
   "cell_type": "markdown",
   "id": "2cb4ab1e",
   "metadata": {},
   "source": [
    "## Visualizing errors over time"
   ]
  },
  {
   "cell_type": "markdown",
   "id": "3288f865",
   "metadata": {},
   "source": [
    "The first analysis is to simply visualize the magnitude of alignment errors over time for a specific concerto movement.  The code below allows you to specify a list of `(system, fullmix_id, tsm_factor)` settings to compare on the same plot."
   ]
  },
  {
   "cell_type": "code",
   "execution_count": null,
   "id": "5b0b0f62",
   "metadata": {},
   "outputs": [],
   "source": [
    "def calculate_errors_over_time(eval_dir, scenarios_summary, fullmix_id, tsm_factor):\n",
    "    '''\n",
    "    Calculate the alignment error vs measure number for a given full mix recording & TSM factor.\n",
    "    Measures that are not evaluated will be displayed as having zero error.\n",
    "    \n",
    "    Inputs\n",
    "    eval_dir: the eval directory containing alignment error information\n",
    "    scenarios_summary: filepath specifying the scenarios.summary file\n",
    "    fullmix_id: id specifying the full mix recording of interest, e.g. 'rach2_mov1_PO2'\n",
    "    tsm_factor: a string specifying the TSM factor, e.g. 'tsm0.80'\n",
    "    \n",
    "    Outputs\n",
    "    alignErrors: alignment error at the downbeat of each measure\n",
    "    measures: array containing indices of corresponding measures\n",
    "    '''\n",
    "    \n",
    "    # parse relevant files\n",
    "    with open(f'{eval_dir}/errs.pkl', 'rb') as f:\n",
    "        errors_info = pickle.load(f) # key: scenario_id, value: (errs, measNums)\n",
    "    scenarios_info = system_utils.get_scenario_info(scenarios_summary) # key: scenario_id, value: dict with scenario info\n",
    "    \n",
    "    # aggregate data\n",
    "    data = {} # key: measure number, value: alignment error\n",
    "    for scenario_id in scenarios_info:\n",
    "        if fullmix_id in scenarios_info[scenario_id]['po'] and tsm_factor in scenarios_info[scenario_id]['p']:\n",
    "            errs, measNums = errors_info[scenario_id] # only contains evaluation measures\n",
    "            for err, measNum in zip(errs, measNums):\n",
    "                data[measNum] = err\n",
    "    \n",
    "    # assign 0 error to non-evaluated measures\n",
    "    maxMeasNum = int(np.max(list(data.keys())))\n",
    "    alignErrors = []\n",
    "    for i in range(1,maxMeasNum+1):\n",
    "        if i in data:\n",
    "            alignErrors.append(data[i])\n",
    "        else:\n",
    "            alignErrors.append(0)\n",
    "    \n",
    "    return np.array(alignErrors), np.arange(1,maxMeasNum+1)"
   ]
  },
  {
   "cell_type": "code",
   "execution_count": null,
   "id": "705fa064",
   "metadata": {},
   "outputs": [],
   "source": [
    "def plot_errors_over_time(eval_dirs, fullmix_ids, tsm_factors, scenarios_summary, subtitles = None):\n",
    "    '''\n",
    "    Plots the alignment error vs measure number for a set of (system, full mix, TSM factor) tuples.\n",
    "    Measures that are not evaluated will be displayed as having zero error.\n",
    "    \n",
    "    Inputs\n",
    "    eval_dirs: list of eval directories, specifies the system for each subplot\n",
    "    fullmix_ids: list of strings specifying the full mix id (e.g. 'rach2_mov1_PO2') for each subplot\n",
    "    tsm_factors: list of strings specifying the TSM factor (e.g. 'tsm0.80') for each subplot\n",
    "    scenarios_summary: filepath specifying the scenarios.summary file\n",
    "    subtitles: if specified, specifies the subtitles on each subplot\n",
    "    \n",
    "    Generates subplots comparing the alignment error vs measure number for each specified setting.\n",
    "    '''\n",
    "    fig, axs = plt.subplots(len(eval_dirs), 1, figsize = (8, 8), sharex=True, sharey=True)    \n",
    "    \n",
    "    for i, (eval_dir, fullmix_id, tsm_factor) in enumerate(zip(eval_dirs, fullmix_ids, tsm_factors)):\n",
    "        \n",
    "        errs, measNums = calculate_errors_over_time(eval_dir, scenarios_summary, fullmix_id, tsm_factor)    \n",
    "        axs[i].plot(measNums, errs)\n",
    "        if subtitles is not None:\n",
    "            axs[i].set_title(subtitles[i])\n",
    "        axs[i].grid(linestyle='--')\n",
    "        axs[i].set_ylim([-3, 3])\n",
    "        \n",
    "    fig.supxlabel('Measure Number')\n",
    "    fig.supylabel('Alignment Error (sec)')"
   ]
  },
  {
   "cell_type": "code",
   "execution_count": null,
   "id": "3e4317f2",
   "metadata": {},
   "outputs": [],
   "source": [
    "eval_dirs = ['eval/match', 'eval/match','eval/offlineDTW','eval/offlineDTW'] # eval directory to visualize\n",
    "fullmix_ids = ['rach2_mov1_PO1','rach2_mov1_PO2','rach2_mov1_PO1','rach2_mov1_PO2']\n",
    "#tsm_factors = ['tsm0.80', 'tsm0.90','tsm1.00','tsm1.11','tsm1.25']\n",
    "tsm_factors = ['tsm1.00'] *4\n",
    "SCENARIOS_SUMMARY = 'scenarios/scenarios.summary'\n",
    "subtitles = ['MATCH - M1', 'MATCH - M2', 'FSVE DTW - M1', 'FSVE DTW - M2']\n",
    "plot_errors_over_time(eval_dirs, fullmix_ids, tsm_factors, SCENARIOS_SUMMARY, subtitles)"
   ]
  },
  {
   "cell_type": "markdown",
   "id": "8544043e",
   "metadata": {},
   "source": [
    "## Generating sonifications"
   ]
  },
  {
   "cell_type": "markdown",
   "id": "11ff2755",
   "metadata": {},
   "source": [
    "The second analysis is to sonify estimated alignments.  We generate an audio file that contains an unmodified recording on the left channel and a time-scale modified version of the other recording on the right channel, where time-scale modification is applied in order to synchronize the two recordings."
   ]
  },
  {
   "cell_type": "code",
   "execution_count": null,
   "id": "324083a7",
   "metadata": {},
   "outputs": [],
   "source": [
    "import sonify_tools"
   ]
  },
  {
   "cell_type": "markdown",
   "id": "ab1f2e09",
   "metadata": {},
   "source": [
    "### Sonifying specific alignments"
   ]
  },
  {
   "cell_type": "markdown",
   "id": "62004ea8",
   "metadata": {},
   "source": [
    "The cells below generate sonifications of the P-O, P-PO, and O-PO alignments for a given scenario."
   ]
  },
  {
   "cell_type": "code",
   "execution_count": null,
   "id": "e95cd74d",
   "metadata": {},
   "outputs": [],
   "source": [
    "def getCacheDir(scenario_id, system_name):\n",
    "    '''\n",
    "    Given a scenario id and system id, determines the filepath to the cache directory.\n",
    "    \n",
    "    Inputs\n",
    "    scenario_id: id of the scenario to process\n",
    "    system_name: id of the system to process\n",
    "    '''\n",
    "    info_file = f'scenarios/{scenario_id}/scenario.info'\n",
    "    d = system_utils.get_scenario_info(info_file)\n",
    "    o_basename = os.path.splitext(os.path.basename(d['o']))[0] # e.g. rach2_mov1_O1\n",
    "    po_basename = os.path.splitext(os.path.basename(d['po']))[0] # e.g. rach2_mov1_PO1\n",
    "    cache_dir = f'experiments/{system_name}/cache/{o_basename}_' + po_basename.split('_')[-1]\n",
    "    return cache_dir"
   ]
  },
  {
   "cell_type": "code",
   "execution_count": null,
   "id": "ce02c012",
   "metadata": {},
   "outputs": [],
   "source": [
    "### edit below ###\n",
    "scenario_id = 's171'\n",
    "system_name = 'offlineDTW'\n",
    "downsample = 20\n",
    "sr = 22050\n",
    "hop_samples = 512\n",
    "##################"
   ]
  },
  {
   "cell_type": "code",
   "execution_count": null,
   "id": "402fb802",
   "metadata": {},
   "outputs": [],
   "source": [
    "### sonifying P-O alignment\n",
    "outfile = f'{scenario_id}_p_o_align.wav'\n",
    "hop_len = None # set to None if warping path is already expressed in seconds\n",
    "audiofile1 = f'scenarios/{scenario_id}/p.wav'\n",
    "audiofile2 = f'scenarios/{scenario_id}/o.wav'\n",
    "align_file = f'experiments/{system_name}/{scenario_id}/hyp.npy' # p-o alignment\n",
    "y = sonify_tools.sonifyWithTSMSync(audiofile1, audiofile2, align_file, downsample, hop_len, outfile)"
   ]
  },
  {
   "cell_type": "code",
   "execution_count": null,
   "id": "c622a63e",
   "metadata": {},
   "outputs": [],
   "source": [
    "### sonifying P-PO alignment\n",
    "outfile = f'{scenario_id}_p_po_align.wav'\n",
    "hop_len = hop_samples / sr\n",
    "audiofile1 = f'scenarios/{scenario_id}/p.wav'\n",
    "audiofile2 = f'scenarios/{scenario_id}/po.wav'\n",
    "align_file = f'experiments/{system_name}/{scenario_id}/p_po_align.npy' # p-po alignment\n",
    "y = sonify_tools.sonifyWithTSMSync(audiofile1, audiofile2, align_file, downsample, hop_len, outfile)"
   ]
  },
  {
   "cell_type": "code",
   "execution_count": null,
   "id": "21f3918b",
   "metadata": {},
   "outputs": [],
   "source": [
    "### sonifying O-PO alignment\n",
    "outfile = f'{scenario_id}_o_po_align.wav'\n",
    "hop_len = hop_samples / sr\n",
    "audiofile1 = f'scenarios/{scenario_id}/o.wav'\n",
    "audiofile2 = f'scenarios/{scenario_id}/po.wav'\n",
    "align_file = getCacheDir(scenario_id, system_name) + '/o_po_align.npy' # o-po alignment\n",
    "y = sonify_tools.sonifyWithTSMSync(audiofile1, audiofile2, align_file, downsample, hop_len, outfile)"
   ]
  },
  {
   "cell_type": "markdown",
   "id": "7564533e",
   "metadata": {},
   "source": [
    "Listen to a recording:"
   ]
  },
  {
   "cell_type": "code",
   "execution_count": null,
   "id": "a573ff2c",
   "metadata": {},
   "outputs": [],
   "source": [
    "ipd.Audio(f'{scenario_id}_p_po_align.wav')"
   ]
  },
  {
   "cell_type": "markdown",
   "id": "52370048",
   "metadata": {},
   "source": [
    "### Batch Sonification"
   ]
  },
  {
   "cell_type": "markdown",
   "id": "945b6d01",
   "metadata": {},
   "source": [
    "The following two cells generate P-O sonifications for all scenarios:"
   ]
  },
  {
   "cell_type": "code",
   "execution_count": null,
   "id": "1a874ae5",
   "metadata": {},
   "outputs": [],
   "source": [
    "SCENARIOS_DIR = 'scenarios'\n",
    "EXP_DIR = 'experiments/offlineDTW'\n",
    "SONIFY_DIR = f'{EXP_DIR}/sonify'\n",
    "downsample = 20\n",
    "hop_len = 512./22050"
   ]
  },
  {
   "cell_type": "code",
   "execution_count": null,
   "id": "e443df1c",
   "metadata": {},
   "outputs": [],
   "source": [
    "sonify_tools.sonifyWithTSMSync_batch(SCENARIOS_DIR, EXP_DIR, downsample, hop_len, SONIFY_DIR)"
   ]
  }
 ],
 "metadata": {
  "kernelspec": {
   "display_name": "accompaniment",
   "language": "python",
   "name": "accompaniment"
  },
  "language_info": {
   "codemirror_mode": {
    "name": "ipython",
    "version": 3
   },
   "file_extension": ".py",
   "mimetype": "text/x-python",
   "name": "python",
   "nbconvert_exporter": "python",
   "pygments_lexer": "ipython3",
   "version": "3.7.13"
  }
 },
 "nbformat": 4,
 "nbformat_minor": 5
}
