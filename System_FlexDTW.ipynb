{
 "cells": [
  {
   "attachments": {},
   "cell_type": "markdown",
   "id": "a6a79b99",
   "metadata": {},
   "source": [
    "# ISA"
   ]
  },
  {
   "attachments": {},
   "cell_type": "markdown",
   "id": "0cb97f15",
   "metadata": {},
   "source": [
    "This notebook provides wrapper functions for calling the [ISA (Iterative Subtractive Alignment) algorithm](https://archives.ismir.net/ismir2021/paper/000101.pdf).  Running this algorithm requires installing some other software, which is described below.  This notebook implements the `offline_processing()` and `online_processing()` functions, which will be imported and run in `02_RunExperiment.ipynb`."
   ]
  },
  {
   "attachments": {},
   "cell_type": "markdown",
   "id": "70d1df11",
   "metadata": {},
   "source": [
    "## Offline Processing"
   ]
  },
  {
   "cell_type": "markdown",
   "id": "babb328e",
   "metadata": {},
   "source": [
    "The offline processing is the same as in the simple offline DTW system.  In the offline processing stage, three things are computed and stored in the `cache/` folder:\n",
    "- chroma features for the orchestra recording\n",
    "- chroma features for the full mix recording\n",
    "- predicted DTW alignment between the orchestra and full mix recordings\n",
    "\n"
   ]
  },
  {
   "cell_type": "code",
   "execution_count": 3,
   "id": "f0653f0e",
   "metadata": {},
   "outputs": [
    {
     "name": "stdout",
     "output_type": "stream",
     "text": [
      "importing Jupyter notebook from align_tools.ipynb\n"
     ]
    }
   ],
   "source": [
    "import numpy as np\n",
    "import pandas as pd\n",
    "import import_ipynb\n",
    "import system_utils\n",
    "import align_tools\n",
    "import sonify_tools\n",
    "import os\n",
    "import os.path\n",
    "import subprocess\n",
    "import librosa as lb\n",
    "import vamp\n",
    "from shutil import which\n",
    "from hmc_mir.align import isa\n",
    "import matplotlib.pyplot as plt\n",
    "from numba import jit, njit, prange\n",
    "import k3d"
   ]
  },
  {
   "cell_type": "code",
   "execution_count": 4,
   "id": "c8e6185d",
   "metadata": {},
   "outputs": [],
   "source": [
    "def offline_processing(scenario_dir, cache_dir, hop_length, alg='cqt'):\n",
    "    '''\n",
    "    Carries out the same offline processing steps as the simple offline DTW system.\n",
    "    \n",
    "    Args:\n",
    "        scenario_dir: The scenario directory to process\n",
    "        cache_dir: The location of the cache directory\n",
    "        hop_length: The hop length in samples used when computing chroma features\n",
    "        alg: The chroma feature algorithm to use. Must be one of 'cqt', 'bcqt', or 'chroma'.\n",
    "    \n",
    "    This function will store the computed chroma features and estimated alignment in the cache folder.\n",
    "    '''\n",
    "    # setup\n",
    "    system_utils.verify_scenario_dir(scenario_dir)\n",
    "    if os.path.exists(cache_dir):\n",
    "        # print(f'{cache_dir} has already been processed.  Skipping.')\n",
    "        pass\n",
    "    else:\n",
    "        # setup\n",
    "        os.makedirs(cache_dir)\n",
    "\n",
    "\n",
    "\n",
    "        orch_start_sec, orch_end_sec = system_utils.get_orchestra_start_end_times(scenario_dir)\n",
    "\n",
    "        o_file = f'{scenario_dir}/o.wav'\n",
    "        y_o, sr = lb.core.load(o_file)\n",
    "        y_o = y_o[int(orch_start_sec*sr):int(orch_end_sec*sr)]\n",
    "        F_o = isa.calculate_cqt(y_o, sr, hop_length)\n",
    "        segments_o = split_into_five_second_segments(F_o)\n",
    "\n",
    "        po_file = f'{scenario_dir}/po.wav'\n",
    "        y_po, sr = lb.core.load(po_file)\n",
    "        F_po = isa.calculate_cqt(y_po, sr, hop_length)\n",
    "\n",
    "        if alg == 'cqt':\n",
    "            F_po_subtracted, wp = isa.isa_cqt(F_o, F_po, segments_o)\n",
    "        elif alg == 'bcqt':\n",
    "            F_po_subtracted, wp = isa.isa_bcqt(F_o, F_po, segments_o)\n",
    "        elif alg == 'chroma':\n",
    "            F_po_subtracted, wp = isa.isa_chroma(F_o, F_po, segments_o)\n",
    "        else:\n",
    "            raise ValueError(f'alg must be one of cqt, bcqt, or chroma.  Received {alg}')\n",
    "\n",
    "        orch_start_frm = int(np.round(orch_start_sec * sr / hop_length))\n",
    "        orch_end_frm = int(np.round(orch_end_sec * sr / hop_length)) + 1\n",
    "        wp[0,:] = wp[0,:] + orch_start_frm # account for offset\n",
    "\n",
    "        np.save(f'{cache_dir}/po_subtracted_cqt.npy', F_po_subtracted)\n",
    "        np.save(f'{cache_dir}/o_po_align.npy', wp)\n",
    "\n",
    "    return"
   ]
  },
  {
   "cell_type": "code",
   "execution_count": 5,
   "id": "c75fcf3e",
   "metadata": {},
   "outputs": [],
   "source": [
    "def verify_cache_dir(indir):\n",
    "    '''\n",
    "    Verifies that the specified cache directory has the required files.\n",
    "    \n",
    "    Inputs\n",
    "    indir: The cache directory to verify\n",
    "    '''\n",
    "    assert os.path.exists(f'{indir}/po_subtracted_cqt.npy'), f'missing {indir}/po_subtracted_cqt.npy'\n",
    "    assert os.path.exists(f'{indir}/o_po_align.npy'), f'missing {indir}/o_po_align.npy'"
   ]
  },
  {
   "attachments": {},
   "cell_type": "markdown",
   "id": "588ee8df",
   "metadata": {},
   "source": [
    "## Online Processing"
   ]
  },
  {
   "attachments": {},
   "cell_type": "markdown",
   "id": "0d865c60",
   "metadata": {},
   "source": [
    "### Wrapper Implementation"
   ]
  },
  {
   "cell_type": "code",
   "execution_count": 6,
   "id": "9f22bfaa",
   "metadata": {},
   "outputs": [],
   "source": [
    "def online_processing(scenario_dir, out_dir, cache_dir, hop_length, alg='cqt'):\n",
    "    '''\n",
    "    Carries out `online' processing using the ISA algorithm.\n",
    "    \n",
    "    Args:\n",
    "        scenario_dir: The scenario directory to process\n",
    "        out_dir: The directory to put results, intermediate files, and logging info\n",
    "        cache_dir: The cache directory\n",
    "        hop_length: The hop length in samples used when computing cqt features\n",
    "        alg: The chroma feature algorithm to use. Must be one of 'cqt', 'bcqt', or 'chroma'.\n",
    "\n",
    "    This function will compute and save the predicted alignment in the output directory in a file hyp.npy\n",
    "    '''\n",
    "    \n",
    "    # verify & setup\n",
    "    system_utils.verify_scenario_dir(scenario_dir)\n",
    "    verify_cache_dir(cache_dir)\n",
    "    assert not os.path.exists(out_dir), f'Output directory {out_dir} already exists.'\n",
    "    os.makedirs(out_dir)\n",
    "\n",
    "    orch_start_sec, orch_end_sec = system_utils.get_orchestra_query_boundaries(scenario_dir)\n",
    "\n",
    "    # compute features\n",
    "    p_file = f'{scenario_dir}/p.wav'\n",
    "    y, sr = lb.core.load(p_file)\n",
    "    hop_sec = hop_length / sr\n",
    "\n",
    "    wp_BC = np.flipud(np.load(f'{cache_dir}/o_po_align.npy'))\n",
    "    wp_BC = np.hstack((np.array([0,0]).reshape((2,-1)), wp_BC)) # prepend (0,0) to handle edge cases properly\n",
    "    fullmix_start_frm = int(np.interp(orch_start_sec*hop_sec, wp_BC[1,:], wp_BC[0,:])) # estimate end time of query in full mix\n",
    "\n",
    "    F_p = isa.calculate_cqt(y, sr, hop_length)  # piano features\n",
    "    segments_p = split_into_five_second_segments(F_p)\n",
    "    F_po_subtracted = np.load(f'{cache_dir}/po_subtracted_cqt.npy') # full mix features\n",
    "    F_po_subtracted = F_po_subtracted[:,fullmix_start_frm:] # truncate to start of query\n",
    "\n",
    "    if alg == 'cqt':\n",
    "        F_po_empty, wp_AB = isa.isa_cqt(F_p, F_po_subtracted, segments_p)\n",
    "    elif alg == 'bcqt':\n",
    "        F_po_empty, wp_AB = isa.isa_bcqt(F_p, F_po_subtracted, segments_p)\n",
    "    elif alg == 'chroma':\n",
    "        F_po_empty, wp_AB = isa.isa_chroma(F_p, F_po_subtracted, segments_p)\n",
    "    else:\n",
    "        raise ValueError(f'alg must be one of cqt, bcqt, or chroma.  Received {alg}')\n",
    "\n",
    "    wp_AB[1,:] = wp_AB[1,:] + fullmix_start_frm # account for offset\n",
    "    \n",
    "    # infer piano-orchestra alignment\n",
    "    wp_AC = align_tools.infer_alignment(wp_AB, wp_BC, frames=True)\n",
    "    \n",
    "    np.save(f'{out_dir}/hyp.npy', wp_AC*hop_sec)\n",
    "    np.save(f'{out_dir}/p_po_align.npy', wp_AB)\n",
    "    \n",
    "    return"
   ]
  },
  {
   "cell_type": "code",
   "execution_count": 7,
   "id": "1b46c315",
   "metadata": {},
   "outputs": [],
   "source": [
    "def verify_hyp_dir(indir):\n",
    "    '''\n",
    "    Verifies that the specified scenario hypothesis directory has the required files.\n",
    "    \n",
    "    Inputs\n",
    "    indir: The cache directory to verify\n",
    "    '''\n",
    "    assert os.path.exists(f'{indir}/hyp.npy'), f'{indir} is missing the required files, please re run the online processing'"
   ]
  },
  {
   "attachments": {},
   "cell_type": "markdown",
   "id": "2b28c8bb",
   "metadata": {},
   "source": [
    "# Example"
   ]
  },
  {
   "attachments": {},
   "cell_type": "markdown",
   "id": "5cd9f6c3",
   "metadata": {},
   "source": [
    "Here is an example of how to call the offline and online processing functions on a scenario directory."
   ]
  },
  {
   "cell_type": "code",
   "execution_count": 8,
   "id": "51aef5ad",
   "metadata": {},
   "outputs": [],
   "source": [
    "scenario_dir = 'scenarios/s105'\n",
    "out_dir = 'experiments/flexDTW/s105'\n",
    "cache_dir = 'experiments/flexDTW/cache/beeth1_mov1_O1_PO1'\n",
    "hop_length = 2048\n",
    "downsample = 10"
   ]
  },
  {
   "cell_type": "code",
   "execution_count": 9,
   "id": "1d17349a",
   "metadata": {},
   "outputs": [],
   "source": [
    "orch_start_sec, orch_end_sec = system_utils.get_orchestra_start_end_times(scenario_dir)\n",
    "\n",
    "o_file = f'{scenario_dir}/o.wav'\n",
    "y_o, sr = lb.core.load(o_file)\n",
    "y_o = y_o[int(orch_start_sec*sr):int(orch_end_sec*sr)]\n",
    "F_o = lb.feature.chroma_cens(y=y_o, sr=sr, hop_length=hop_length)[:,::downsample]\n",
    "\n",
    "po_file = f'{scenario_dir}/po.wav'\n",
    "y_po, sr = lb.core.load(po_file)\n",
    "y_po = y_po[int(orch_start_sec*sr):]\n",
    "F_po = lb.feature.chroma_cens(y=y_po, sr=sr, hop_length=hop_length)[:,::downsample]\n",
    "\n",
    "np.save(f'{cache_dir}/po_cqt.npy', F_po)\n",
    "np.save(f'{cache_dir}/o_cqt.npy', F_o)"
   ]
  },
  {
   "cell_type": "code",
   "execution_count": 10,
   "id": "985b3f7d",
   "metadata": {},
   "outputs": [],
   "source": [
    "p_file = f'{scenario_dir}/p.wav'\n",
    "y, sr = lb.core.load(p_file)\n",
    "\n",
    "F_p = lb.feature.chroma_cens(y=y, sr=sr, hop_length=hop_length)[:,::downsample]\n",
    "F_po = np.load(f'{cache_dir}/po_cqt.npy') # full mix features\n",
    "F_o = np.load(f'{cache_dir}/o_cqt.npy') # orchestra\n",
    "\n",
    "hop_sec = downsample * hop_length / sr"
   ]
  },
  {
   "cell_type": "code",
   "execution_count": 11,
   "id": "b5272461",
   "metadata": {},
   "outputs": [
    {
     "data": {
      "text/plain": [
       "((12, 131), (12, 997), (12, 903))"
      ]
     },
     "execution_count": 11,
     "metadata": {},
     "output_type": "execute_result"
    }
   ],
   "source": [
    "F_p.shape, F_po.shape, F_o.shape"
   ]
  },
  {
   "cell_type": "code",
   "execution_count": 12,
   "id": "9e4951bb",
   "metadata": {},
   "outputs": [],
   "source": [
    "@njit(parallel=True)\n",
    "def calculate_cost_tensor(x, y, z):\n",
    "    '''\n",
    "    Calculates the cost tensor for the given piano, orchestra, and piano-orchestra features.\n",
    "    \n",
    "    Args:\n",
    "        x: submix features\n",
    "        y: submix features\n",
    "        z: full mix features\n",
    "    '''\n",
    "    x = x.T\n",
    "    y = y.T\n",
    "    z = z.T\n",
    "    cost_tensor = np.zeros((x.shape[0], y.shape[0], z.shape[0]))\n",
    "    for i in prange(x.shape[0]):\n",
    "        for j in prange(y.shape[0]):\n",
    "            for k in prange(z.shape[0]):\n",
    "                cost_tensor[i, j, k] = 1 - (np.dot(z[k,:], x[i,:] + y[j,:]) / (np.linalg.norm(z[k,:]) * np.linalg.norm(x[i,:] + y[j,:])))\n",
    "    return cost_tensor"
   ]
  },
  {
   "cell_type": "code",
   "execution_count": 13,
   "id": "392c575a",
   "metadata": {},
   "outputs": [],
   "source": [
    "@jit(nopython=True)\n",
    "def backtrace_flexdtw(D, B, steps, rstart, cstart, tstart):\n",
    "    '''\n",
    "    Backtraces through the cumulative cost matrix D starting from a specified location.\n",
    "    \n",
    "    Arguments:\n",
    "    D: cumulative cost matrix\n",
    "    B: backtrace matrix\n",
    "    steps: a numpy matrix specifying the allowable transitions.  It should be of\n",
    "            dimension (L, 2), where each row specifies (row step, col step)\n",
    "    rstart: the row index to start backtracking from\n",
    "    cstart: the column index to start backtracking from\n",
    "    \n",
    "    Outputs\n",
    "    path: a python list of (row, col) coordinates for the optimal path.\n",
    "    '''\n",
    "    pos = (rstart, cstart, tstart)\n",
    "    path = []\n",
    "    path.append(pos)\n",
    "    while(pos[0] != 0 and pos[1] != 0 and pos[2] != 0):\n",
    "        (row, col, tube) = pos\n",
    "        stepidx = B[row, col, tube]\n",
    "        (rstep, cstep, tstep) = steps[stepidx]\n",
    "        pos = (row-rstep, col-cstep, tube-tstep)\n",
    "        path.append(pos)\n",
    "    \n",
    "    return path"
   ]
  },
  {
   "cell_type": "code",
   "execution_count": 14,
   "id": "388ac764",
   "metadata": {},
   "outputs": [],
   "source": [
    "@jit(nopython=True)\n",
    "def find_best_endpoint(D, P, buffer):\n",
    "    '''\n",
    "    Determines the best location to begin backtracking from by comparing the average path cost\n",
    "    per manhattan block.\n",
    "    \n",
    "    Inputs\n",
    "    D: the cumulative cost matrix\n",
    "    P: the matrix specifying the starting location of the alignment path\n",
    "    buffer: specifies the length of a buffer region (in frames) to avoid short degenerate alignment paths\n",
    "        near the corners of the pairwise cost matrix.  This can be thought of as the minimum length that\n",
    "        needs to match in order to be considered a valid alignment path.\n",
    "    \n",
    "    Outputs\n",
    "    best_cost: the best average path cost per manhattan block\n",
    "    best_r: the row index of the best endpoint\n",
    "    best_c: the column index of the best endpoint\n",
    "    debug: debugging information for examining the average cost per manhattan block for each \n",
    "        of the candidate ending positions\n",
    "    '''\n",
    "    \n",
    "    # consider the top corner 3 faces as candidates\n",
    "    candidates = []\n",
    "    for i in range(buffer, D.shape[0]):\n",
    "        for j in range(buffer, D.shape[1]):\n",
    "            candidates.append((i, j, D.shape[2]-1))\n",
    "\n",
    "    for j in range(buffer, D.shape[1]):\n",
    "        for k in range(buffer, D.shape[2]):\n",
    "            candidates.append((D.shape[0]-1, j, k))\n",
    "\n",
    "    for i in range(buffer, D.shape[0]):\n",
    "        for k in range(buffer, D.shape[2]):\n",
    "            candidates.append((i, D.shape[1]-1, k))\n",
    "    \n",
    "    best_cost = np.inf\n",
    "    best_r, best_c, best_t = -1, -1, -1\n",
    "    # debug = []\n",
    "    debug = np.zeros_like(D)\n",
    "    \n",
    "    for i, (r,c,t) in enumerate(candidates):\n",
    "                \n",
    "        # get alignment start location\n",
    "        rstart, cstart, tstart = P[r,c,t]\n",
    "            \n",
    "        # calculate average cost per manhattan block\n",
    "        mdist = (r - rstart) + (c - cstart) + (t - tstart)# manhattan distance\n",
    "        avg_cost_per_mb = D[r,c,t] / mdist\n",
    "        \n",
    "        # keep best\n",
    "        if avg_cost_per_mb < best_cost:\n",
    "            best_cost = avg_cost_per_mb\n",
    "            best_r, best_c, best_t = r, c, t\n",
    "            \n",
    "        # debugging info\n",
    "        # TODO: updated this for 3D-FlexDTW\n",
    "        # if r == D.shape[0]-1:\n",
    "        #     debug.append((c-D.shape[1]+1, avg_cost_per_mb, r, c))\n",
    "        # else:\n",
    "        #     debug.append((D.shape[0]-1-r, avg_cost_per_mb, r, c))\n",
    "        debug[r,c,t] = avg_cost_per_mb\n",
    "    \n",
    "    return best_cost, best_r, best_c, best_t, debug"
   ]
  },
  {
   "cell_type": "code",
   "execution_count": 15,
   "id": "ee23b4d6",
   "metadata": {},
   "outputs": [],
   "source": [
    "@jit(nopython=True)\n",
    "def flexdtw(x, y, z, steps, weights, buffer = 1):\n",
    "    C = calculate_cost_tensor(x, y, z)\n",
    "    \n",
    "    # Run FlexDTW on the cost tensor\n",
    "    D = np.zeros(C.shape)\n",
    "    B = np.zeros(C.shape, dtype=np.int8)\n",
    "    P = np.zeros((C.shape[0], C.shape[1], C.shape[2], 3), dtype=np.int32)\n",
    "\n",
    "    # D[0, :, :] = C[0, :, :]\n",
    "    # D[:, 0, :] = C[:, 0, :]\n",
    "    # D[:, :, 0] = C[:, :, 0]\n",
    "    D[0,0,0] = C[0,0,0]\n",
    "\n",
    "    # DP\n",
    "    for row in range(1,C.shape[0]):\n",
    "        for col in range(1, C.shape[1]):\n",
    "            for tube in range (1, C.shape[2]):\n",
    "                mincost = np.inf\n",
    "                minidx = -1\n",
    "                bestrprev = -1\n",
    "                bestcprev = -1\n",
    "                besttprev = -1\n",
    "                for stepidx, step in enumerate(steps):\n",
    "                    (rstep, cstep, tstep) = step\n",
    "                    prevrow = row - rstep\n",
    "                    prevcol = col - cstep\n",
    "                    prevtube = tube - tstep\n",
    "                    if prevrow >= 0 and prevcol >= 0 and prevtube >= 0:\n",
    "                        \n",
    "                        # calculate avg cost per manhattan block\n",
    "                        pathcost = D[prevrow, prevcol, prevtube] + C[row, col, tube] * weights[stepidx]\n",
    "                        mdist = row + col + tube - np.sum(P[prevrow, prevcol, prevtube])\n",
    "                        cost_per_mb = pathcost / mdist\n",
    "                        \n",
    "                        # select best transition based on avg cost per manhattan block\n",
    "                        if cost_per_mb < mincost:\n",
    "                            mincost = cost_per_mb\n",
    "                            minidx = stepidx\n",
    "                            bestrprev = prevrow\n",
    "                            bestcprev = prevcol\n",
    "                            besttprev = prevtube\n",
    "                            \n",
    "                D[row, col, tube] = D[bestrprev, bestcprev, besttprev] + C[row, col, tube] * weights[minidx]\n",
    "                B[row, col, tube] = minidx\n",
    "                        \n",
    "                if bestrprev == 0 or bestcprev == 0 or besttprev == 0:\n",
    "                    P[row, col, tube][0] = bestrprev\n",
    "                    P[row, col, tube][1] = bestcprev\n",
    "                    P[row, col, tube][2] = besttprev\n",
    "                else:\n",
    "                    P[row, col, tube] = P[bestrprev, bestcprev, besttprev]\n",
    "\n",
    "    best_cost, best_r, best_c, best_t, debug = find_best_endpoint(D, P, buffer)\n",
    "    path = backtrace_flexdtw(D, B, steps, best_r, best_c, best_t)\n",
    "    path.reverse()\n",
    "    path = np.array(path)\n",
    "    return best_cost, path.T, debug\n"
   ]
  },
  {
   "cell_type": "code",
   "execution_count": 16,
   "id": "c5434b8c",
   "metadata": {},
   "outputs": [],
   "source": [
    "steps = np.array([\n",
    "    [1,1,1],\n",
    "    [2,1,1],\n",
    "    [1,2,1],\n",
    "    [1,1,2],\n",
    "    [2,2,1],\n",
    "    [2,1,2],\n",
    "    [1,2,2],\n",
    "])\n",
    "weights = np.array([3,4,4,4,5,5,5])"
   ]
  },
  {
   "cell_type": "code",
   "execution_count": 17,
   "id": "da7538a9",
   "metadata": {},
   "outputs": [
    {
     "name": "stderr",
     "output_type": "stream",
     "text": [
      "OMP: Info #276: omp_set_nested routine deprecated, please use omp_set_max_active_levels instead.\n",
      "/tmp/ipykernel_57198/3505924244.py:3: NumbaPerformanceWarning: \u001b[1m\u001b[1m\u001b[1mnp.dot() is faster on contiguous arrays, called on (Array(float32, 1, 'A', False, aligned=True), Array(float32, 1, 'C', False, aligned=True))\u001b[0m\u001b[0m\u001b[0m\n",
      "  C = calculate_cost_tensor(x, y, z)\n"
     ]
    }
   ],
   "source": [
    "best_cost, path, debug = flexdtw(F_p, F_o, F_po, steps, weights, buffer = 20)"
   ]
  },
  {
   "cell_type": "code",
   "execution_count": 19,
   "id": "dd1fbcde",
   "metadata": {},
   "outputs": [
    {
     "data": {
      "text/plain": [
       "array([[  0, 649, 625],\n",
       "       [  1, 650, 626],\n",
       "       [  3, 651, 628],\n",
       "       [  5, 652, 629],\n",
       "       [  6, 654, 630],\n",
       "       [  7, 655, 631],\n",
       "       [  9, 656, 633],\n",
       "       [ 10, 658, 634],\n",
       "       [ 11, 659, 635],\n",
       "       [ 12, 661, 636],\n",
       "       [ 13, 663, 638],\n",
       "       [ 15, 665, 639],\n",
       "       [ 17, 666, 641],\n",
       "       [ 18, 667, 642],\n",
       "       [ 20, 668, 643],\n",
       "       [ 21, 669, 644],\n",
       "       [ 23, 670, 645],\n",
       "       [ 24, 671, 646],\n",
       "       [ 26, 672, 648],\n",
       "       [ 27, 674, 649],\n",
       "       [ 28, 676, 651],\n",
       "       [ 30, 678, 652],\n",
       "       [ 31, 680, 654],\n",
       "       [ 33, 681, 655],\n",
       "       [ 34, 682, 656],\n",
       "       [ 35, 684, 658],\n",
       "       [ 36, 686, 660],\n",
       "       [ 37, 687, 661],\n",
       "       [ 39, 688, 662],\n",
       "       [ 41, 689, 663],\n",
       "       [ 42, 690, 664],\n",
       "       [ 43, 691, 665],\n",
       "       [ 44, 693, 666],\n",
       "       [ 45, 695, 667],\n",
       "       [ 47, 697, 668],\n",
       "       [ 48, 699, 669],\n",
       "       [ 49, 700, 670],\n",
       "       [ 50, 702, 672],\n",
       "       [ 51, 703, 673],\n",
       "       [ 52, 704, 674],\n",
       "       [ 54, 705, 676],\n",
       "       [ 56, 706, 678],\n",
       "       [ 58, 708, 679],\n",
       "       [ 59, 710, 680],\n",
       "       [ 60, 712, 681],\n",
       "       [ 61, 713, 682],\n",
       "       [ 62, 714, 684],\n",
       "       [ 64, 715, 686],\n",
       "       [ 66, 716, 687],\n",
       "       [ 67, 718, 688],\n",
       "       [ 69, 719, 689],\n",
       "       [ 70, 720, 691],\n",
       "       [ 72, 721, 693],\n",
       "       [ 73, 722, 694],\n",
       "       [ 75, 723, 695],\n",
       "       [ 76, 725, 696],\n",
       "       [ 77, 727, 697],\n",
       "       [ 78, 729, 698],\n",
       "       [ 80, 730, 700],\n",
       "       [ 82, 731, 702],\n",
       "       [ 84, 732, 704],\n",
       "       [ 85, 733, 705],\n",
       "       [ 86, 735, 706],\n",
       "       [ 87, 737, 707],\n",
       "       [ 88, 739, 708],\n",
       "       [ 90, 740, 710],\n",
       "       [ 91, 741, 712],\n",
       "       [ 93, 742, 713],\n",
       "       [ 95, 743, 715],\n",
       "       [ 97, 744, 717],\n",
       "       [ 98, 746, 718],\n",
       "       [ 99, 747, 719],\n",
       "       [100, 749, 721],\n",
       "       [102, 750, 722],\n",
       "       [103, 751, 723],\n",
       "       [104, 752, 725],\n",
       "       [106, 754, 726],\n",
       "       [107, 755, 727],\n",
       "       [108, 757, 728],\n",
       "       [109, 759, 730],\n",
       "       [111, 760, 732],\n",
       "       [113, 761, 733],\n",
       "       [115, 762, 734],\n",
       "       [116, 764, 735],\n",
       "       [117, 765, 736],\n",
       "       [118, 767, 738],\n",
       "       [120, 768, 740],\n",
       "       [122, 770, 741],\n",
       "       [123, 772, 742],\n",
       "       [125, 774, 743],\n",
       "       [126, 775, 745],\n",
       "       [128, 776, 747],\n",
       "       [130, 777, 748]])"
      ]
     },
     "execution_count": 19,
     "metadata": {},
     "output_type": "execute_result"
    }
   ],
   "source": [
    "path.T"
   ]
  },
  {
   "cell_type": "code",
   "execution_count": 20,
   "id": "9eb3e317",
   "metadata": {},
   "outputs": [
    {
     "name": "stderr",
     "output_type": "stream",
     "text": [
      "/home/kdey/ttmp/micromamba/envs/PianoConcertoAccompaniment/lib/python3.9/site-packages/traittypes/traittypes.py:97: UserWarning: Given trait value dtype \"int64\" does not match required type \"float32\". A coerced copy has been created.\n",
      "  warnings.warn(\n"
     ]
    },
    {
     "data": {
      "application/vnd.jupyter.widget-view+json": {
       "model_id": "36b95b7133284e4eb608d8e36d6b514b",
       "version_major": 2,
       "version_minor": 0
      },
      "text/plain": [
       "Output()"
      ]
     },
     "metadata": {},
     "output_type": "display_data"
    }
   ],
   "source": [
    "plt_line = k3d.line(path.T, width=0.1, color=0xff99cc)\n",
    "\n",
    "start_label = k3d.label('0,0,0', position=(0, 0, 0))\n",
    "# end_label = k3d.label('{}, {}, {}'.format(x.shape[1], y.shape[1], z.shape[1]), position=(x.shape[1], y.shape[1], z.shape[1]))\n",
    "end_label = k3d.label('{}, {}, {}'.format(F_p.shape[1], F_o.shape[1], F_po.shape[1]), position=(F_p.shape[1], F_o.shape[1], F_po.shape[1]))\n",
    "# end_label = k3d.label('{}, {}, {}'.format(context_size, context_size, context_size), position=(context_size, context_size, context_size))\n",
    "\n",
    "plot = k3d.plot()\n",
    "plot += plt_line\n",
    "plot += start_label\n",
    "plot += end_label\n",
    "plot.display()"
   ]
  },
  {
   "cell_type": "code",
   "execution_count": 21,
   "id": "47604b28",
   "metadata": {},
   "outputs": [
    {
     "name": "stdout",
     "output_type": "stream",
     "text": [
      "(131, 903, 997)\n"
     ]
    }
   ],
   "source": [
    "cost_tensor =  calculate_cost_tensor(F_p, F_o, F_po)\n",
    "print(cost_tensor.shape)"
   ]
  },
  {
   "cell_type": "code",
   "execution_count": 22,
   "metadata": {},
   "outputs": [
    {
     "data": {
      "text/plain": [
       "0.07008159649798817"
      ]
     },
     "execution_count": 22,
     "metadata": {},
     "output_type": "execute_result"
    }
   ],
   "source": [
    "cost_tensor[0,0,0]"
   ]
  },
  {
   "cell_type": "code",
   "execution_count": 23,
   "metadata": {},
   "outputs": [
    {
     "data": {
      "text/plain": [
       "<matplotlib.image.AxesImage at 0x7fbf72c052b0>"
      ]
     },
     "execution_count": 23,
     "metadata": {},
     "output_type": "execute_result"
    },
    {
     "data": {
      "image/png": "[encoded data removed]",
      "text/plain": [
       "<Figure size 640x480 with 1 Axes>"
      ]
     },
     "metadata": {},
     "output_type": "display_data"
    }
   ],
   "source": [
    "plt.imshow(cost_tensor[:,0,:])"
   ]
  },
  {
   "cell_type": "code",
   "execution_count": 24,
   "id": "99ce37f5",
   "metadata": {},
   "outputs": [
    {
     "name": "stderr",
     "output_type": "stream",
     "text": [
      "/home/kdey/ttmp/micromamba/envs/PianoConcertoAccompaniment/lib/python3.9/site-packages/k3d/objects.py:1328: UserWarning: wrong dtype: float64 ([<class 'numpy.float16'>, <class 'numpy.float32'>] required)\n",
      "  warnings.warn(\"wrong dtype: %s (%s required)\" % (actual, required))\n"
     ]
    }
   ],
   "source": [
    "plt_volume = k3d.volume(cost_tensor, bounds=[0, cost_tensor.shape[0], 0, cost_tensor.shape[1], 0, cost_tensor.shape[2]])\n",
    "\n",
    "plot = k3d.plot()\n",
    "plot += plt_volume\n",
    "plot.display()"
   ]
  },
  {
   "cell_type": "code",
   "execution_count": null,
   "id": "7eee080f",
   "metadata": {},
   "outputs": [
    {
     "ename": "NameError",
     "evalue": "name 'debug' is not defined",
     "output_type": "error",
     "traceback": [
      "\u001b[0;31m---------------------------------------------------------------------------\u001b[0m",
      "\u001b[0;31mNameError\u001b[0m                                 Traceback (most recent call last)",
      "Cell \u001b[0;32mIn[5], line 1\u001b[0m\n\u001b[0;32m----> 1\u001b[0m vol \u001b[39m=\u001b[39m debug\n\u001b[1;32m      2\u001b[0m plt_volume \u001b[39m=\u001b[39m k3d\u001b[39m.\u001b[39mvolume(vol, bounds\u001b[39m=\u001b[39m[\u001b[39m0\u001b[39m, vol\u001b[39m.\u001b[39mshape[\u001b[39m0\u001b[39m], \u001b[39m0\u001b[39m, vol\u001b[39m.\u001b[39mshape[\u001b[39m1\u001b[39m], \u001b[39m0\u001b[39m, vol\u001b[39m.\u001b[39mshape[\u001b[39m2\u001b[39m]])\n\u001b[1;32m      3\u001b[0m \u001b[39m# plt_volume = k3d.volume(calculate_cost_tensor(F_p, F_o, F_po))\u001b[39;00m\n",
      "\u001b[0;31mNameError\u001b[0m: name 'debug' is not defined"
     ]
    }
   ],
   "source": [
    "vol = debug\n",
    "plt_volume = k3d.volume(vol, bounds=[0, vol.shape[0], 0, vol.shape[1], 0, vol.shape[2]])\n",
    "# plt_volume = k3d.volume(calculate_cost_tensor(F_p, F_o, F_po))\n",
    "\n",
    "plot = k3d.plot()\n",
    "plot += plt_volume\n",
    "plot.display()"
   ]
  },
  {
   "cell_type": "code",
   "execution_count": null,
   "id": "f3fe4060",
   "metadata": {},
   "outputs": [],
   "source": [
    "# # infer piano-orchestra alignment\n",
    "wp_AC = np.vstack((path[0],path[1]))\n",
    "np.save(f'{out_dir}/hyp.npy', wp_AC*hop_sec)"
   ]
  },
  {
   "cell_type": "code",
   "execution_count": null,
   "id": "82cbce80",
   "metadata": {},
   "outputs": [
    {
     "data": {
      "text/plain": [
       "array([[  0,   1,   3,   5,   6,   7,   9,  10,  11,  12,  13,  15,  17,\n",
       "         18,  20,  21,  23,  24,  26,  27,  28,  30,  31,  33,  34,  35,\n",
       "         36,  37,  39,  41,  42,  43,  44,  45,  47,  48,  49,  50,  51,\n",
       "         52,  54,  56,  58,  59,  60,  61,  62,  64,  66,  67,  69,  70,\n",
       "         72,  73,  75,  76,  77,  78,  80,  82,  84,  85,  86,  87,  88,\n",
       "         90,  91,  93,  95,  97,  98,  99, 100, 102, 103, 104, 106, 107,\n",
       "        108, 109, 111, 113, 115, 116, 117, 118, 120, 122, 123, 125, 126,\n",
       "        128, 130],\n",
       "       [649, 650, 651, 652, 654, 655, 656, 658, 659, 661, 663, 665, 666,\n",
       "        667, 668, 669, 670, 671, 672, 674, 676, 678, 680, 681, 682, 684,\n",
       "        686, 687, 688, 689, 690, 691, 693, 695, 697, 699, 700, 702, 703,\n",
       "        704, 705, 706, 708, 710, 712, 713, 714, 715, 716, 718, 719, 720,\n",
       "        721, 722, 723, 725, 727, 729, 730, 731, 732, 733, 735, 737, 739,\n",
       "        740, 741, 742, 743, 744, 746, 747, 749, 750, 751, 752, 754, 755,\n",
       "        757, 759, 760, 761, 762, 764, 765, 767, 768, 770, 772, 774, 775,\n",
       "        776, 777]])"
      ]
     },
     "execution_count": 98,
     "metadata": {},
     "output_type": "execute_result"
    }
   ],
   "source": [
    "np.vstack((path[0],path[1]))"
   ]
  },
  {
   "cell_type": "code",
   "execution_count": null,
   "id": "e6473c55",
   "metadata": {},
   "outputs": [],
   "source": [
    "# system_utils.get_orchestra_query_boundaries(scenario_dir)"
   ]
  },
  {
   "cell_type": "code",
   "execution_count": null,
   "id": "9a5af517",
   "metadata": {},
   "outputs": [
    {
     "ename": "NameError",
     "evalue": "name 'plt' is not defined",
     "output_type": "error",
     "traceback": [
      "\u001b[0;31m---------------------------------------------------------------------------\u001b[0m",
      "\u001b[0;31mNameError\u001b[0m                                 Traceback (most recent call last)",
      "Cell \u001b[0;32mIn[6], line 7\u001b[0m\n\u001b[1;32m      1\u001b[0m \u001b[39m# import matplotlib.pyplot as plt\u001b[39;00m\n\u001b[1;32m      2\u001b[0m \n\u001b[1;32m      3\u001b[0m \u001b[39m# alignment1 = wp_AB_\u001b[39;00m\n\u001b[1;32m      4\u001b[0m \u001b[39m# alignment2 = wp_BC\u001b[39;00m\n\u001b[1;32m      5\u001b[0m \u001b[39m# alignment3 = wp_AC\u001b[39;00m\n\u001b[0;32m----> 7\u001b[0m plt\u001b[39m.\u001b[39mplot(path[\u001b[39m0\u001b[39m], path[\u001b[39m2\u001b[39m], label\u001b[39m=\u001b[39m\u001b[39m'\u001b[39m\u001b[39mAB\u001b[39m\u001b[39m'\u001b[39m)\n\u001b[1;32m      8\u001b[0m plt\u001b[39m.\u001b[39mplot(path[\u001b[39m1\u001b[39m], path[\u001b[39m2\u001b[39m], label\u001b[39m=\u001b[39m\u001b[39m'\u001b[39m\u001b[39mBC\u001b[39m\u001b[39m'\u001b[39m)\n\u001b[1;32m      9\u001b[0m plt\u001b[39m.\u001b[39mplot(path[\u001b[39m1\u001b[39m], path[\u001b[39m0\u001b[39m], label\u001b[39m=\u001b[39m\u001b[39m'\u001b[39m\u001b[39mAC\u001b[39m\u001b[39m'\u001b[39m)\n",
      "\u001b[0;31mNameError\u001b[0m: name 'plt' is not defined"
     ]
    }
   ],
   "source": [
    "# import matplotlib.pyplot as plt\n",
    "\n",
    "# alignment1 = wp_AB_\n",
    "# alignment2 = wp_BC\n",
    "# alignment3 = wp_AC\n",
    "\n",
    "plt.plot(path[0], path[2], label='AB')\n",
    "plt.plot(path[1], path[2], label='BC')\n",
    "plt.plot(path[1], path[0], label='AC')\n",
    "plt.xlabel('Source Time')\n",
    "plt.ylabel('Aligned Time')\n",
    "plt.ylim(ymin=0)\n",
    "plt.xlim(xmin=0)\n",
    "plt.legend()\n",
    "plt.show()"
   ]
  },
  {
   "cell_type": "code",
   "execution_count": null,
   "id": "2554f310",
   "metadata": {},
   "outputs": [],
   "source": []
  }
 ],
 "metadata": {
  "kernelspec": {
   "display_name": "Python 3",
   "language": "python",
   "name": "python3"
  },
  "language_info": {
   "codemirror_mode": {
    "name": "ipython",
    "version": 3
   },
   "file_extension": ".py",
   "mimetype": "text/x-python",
   "name": "python",
   "nbconvert_exporter": "python",
   "pygments_lexer": "ipython3",
   "version": "3.9.16"
  }
 },
 "nbformat": 4,
 "nbformat_minor": 5
}
