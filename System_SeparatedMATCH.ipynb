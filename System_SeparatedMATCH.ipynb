{
 "cells": [
  {
   "attachments": {},
   "cell_type": "markdown",
   "id": "a6a79b99",
   "metadata": {},
   "source": [
    "# MATCH"
   ]
  },
  {
   "attachments": {},
   "cell_type": "markdown",
   "id": "0cb97f15",
   "metadata": {},
   "source": [
    "This notebook provides wrapper functions for calling the [MATCH algorithm](https://www.eecs.qmul.ac.uk/~simond/match/).  Running this algorithm requires installing some other software, which is described below.  This notebook implements the `offline_processing()` and `online_processing()` functions, which will be imported and run in `02_RunExperiment.ipynb`."
   ]
  },
  {
   "attachments": {},
   "cell_type": "markdown",
   "id": "8ff6b5de",
   "metadata": {},
   "source": [
    "Here is a summary of the source separated MATCH approach:\n",
    "- Offline processing:\n",
    "    - The source separation is used to split the full mix recording into solo piano and orchestra recordings.\n",
    "    - The orchestra and estimated orchestra are aligned with standard DTW using chroma features.\n",
    "- Online processing: The solo piano and estimated piano are aligned with the MATCH algorithm, and the predicted alignment is then used to infer the corresponding alignment between the piano and orchestra recordings."
   ]
  },
  {
   "attachments": {},
   "cell_type": "markdown",
   "id": "70d1df11",
   "metadata": {},
   "source": [
    "## Offline Processing"
   ]
  },
  {
   "attachments": {},
   "cell_type": "markdown",
   "id": "610e1142",
   "metadata": {},
   "source": [
    "The offline processing is the same as in the simple offline DTW system.  In the offline processing stage, three things are computed and stored in the `cache/` folder:\n",
    "- chroma features for the orchestra recording\n",
    "- chroma features for the full mix recording\n",
    "- predicted DTW alignment between the orchestra and full mix recordings\n",
    "\n",
    "NOTE: because we do not have the code to do the source separation, the pre-source separated files need to be added to the cache folder BEFORE this code can be run. This is an example of how the cache folder should look *before* running the offline processing (assuming you wanted to use the HDemucs source separation model):\n",
    "\n",
    "\n",
    "```\n",
    "cache\n",
    "│   └── separation\n",
    "│       ├── HDemucs\n",
    "│       │   ├── bach5_mov1_PO1_O.wav\n",
    "│       │   ├── bach5_mov1_PO1_P.wav\n",
    "│       │   ├── bach5_mov1_PO2_O.wav\n",
    "│       │   ├── bach5_mov1_PO2_P.wav\n",
    "│       │   ├── beeth1_mov1_PO1_O.wav\n",
    "│       │   ├── beeth1_mov1_PO1_P.wav\n",
    "│       │   ├── beeth1_mov1_PO2_O.wav\n",
    "│       │   ├── beeth1_mov1_PO2_P.wav\n",
    "│       │   ├── mozart21_mov1_PO1_O.wav\n",
    "│       │   ├── mozart21_mov1_PO1_P.wav\n",
    "│       │   ├── mozart21_mov1_PO2_O.wav\n",
    "│       │   ├── mozart21_mov1_PO2_P.wav\n",
    "│       │   ├── rach2_mov1_PO1_O.wav\n",
    "│       │   ├── rach2_mov1_PO1_P.wav\n",
    "│       │   ├── rach2_mov1_PO2_O.wav\n",
    "│       │   └── rach2_mov1_PO2_P.wav\n",
    "```"
   ]
  },
  {
   "cell_type": "code",
   "execution_count": 1,
   "id": "f0653f0e",
   "metadata": {},
   "outputs": [
    {
     "name": "stdout",
     "output_type": "stream",
     "text": [
      "importing Jupyter notebook from system_utils.ipynb\n",
      "importing Jupyter notebook from align_tools.ipynb\n",
      "importing Jupyter notebook from System_MATCH.ipynb\n",
      "importing Jupyter notebook from System_OfflineDTW.ipynb\n",
      "importing Jupyter notebook from sonify_tools.ipynb\n",
      "importing Jupyter notebook from tsm_tools.ipynb\n"
     ]
    }
   ],
   "source": [
    "import numpy as np\n",
    "import pandas as pd\n",
    "import import_ipynb\n",
    "import librosa as lb\n",
    "import system_utils\n",
    "import align_tools\n",
    "import System_MATCH\n",
    "import os\n",
    "import os.path\n",
    "import subprocess\n",
    "from pathlib import Path"
   ]
  },
  {
   "cell_type": "code",
   "execution_count": 2,
   "id": "8dc17c0c",
   "metadata": {},
   "outputs": [],
   "source": [
    "def verify_separated_file(indir, piece):\n",
    "    '''Verifies that the specified directory has the separated files.\n",
    "    \n",
    "    Args:\n",
    "        indir (pathlib.Path): The directory to verify\n",
    "        piece (str): The file to check for\n",
    "    '''\n",
    "    separated_filename_p = piece + '_P.wav'\n",
    "    separated_filename_o = piece + '_O.wav'\n",
    "    \n",
    "    assert (indir / separated_filename_p).exists(), f'Missing separated file {separated_filename_p}'\n",
    "    assert (indir / separated_filename_o).exists(), f'Missing separated file {separated_filename_o}'"
   ]
  },
  {
   "cell_type": "code",
   "execution_count": 3,
   "id": "c8e6185d",
   "metadata": {},
   "outputs": [],
   "source": [
    "def offline_processing(scenario_dir, cache_dir, hop_length, steps, weights, separation_dir, separation_alg):\n",
    "    '''Carries out the same offline processing steps as the simple offline DTW system.\n",
    "    \n",
    "    Args\n",
    "        scenario_dir: The scenario directory to process\n",
    "        cache_dir: The location of the cache directory\n",
    "        hop_length: The hop length in samples used when computing chroma features\n",
    "        steps: an L x 2 array specifying the allowable DTW transitions\n",
    "        weights: a length L array specifying the DTW transition weights\n",
    "        separation_dir: directory where the pre-separated files are stored\n",
    "        separation_alg: algorithm to separate the files with (must be a subdirectory within `separation_dir`)\n",
    "    \n",
    "    This function will store the computed chroma features and estimated alignment in the cache folder.\n",
    "    '''\n",
    "\n",
    "    # setup\n",
    "    system_utils.verify_scenario_dir(scenario_dir)\n",
    "\n",
    "    if os.path.exists(cache_dir):\n",
    "        # print(f'{cache_dir} has already been processed.  Skipping.')\n",
    "        pass\n",
    "    else:\n",
    "        # TODO: move this below `os.makedirs` and do the separation here instead of importing pre-separated files\n",
    "        separated_file_dir = Path(separation_dir) / 'separation' / Path(separation_alg)\n",
    "        piece_name = Path(cache_dir).name.split('_')\n",
    "        piece_name.pop(2)\n",
    "        piece_name = '_'.join(piece_name)\n",
    "        verify_separated_file(separated_file_dir, piece_name)\n",
    "\n",
    "        # setup\n",
    "        os.makedirs(cache_dir)\n",
    "\n",
    "        # compute orchestra features\n",
    "        o_file = f'{scenario_dir}/o.wav'\n",
    "        y_o, sr = lb.core.load(o_file)\n",
    "        F_o = lb.feature.chroma_cqt(y=y_o, sr=sr, hop_length=hop_length, norm=2) \n",
    "\n",
    "        # compute full mix separated orchestra features\n",
    "        po_o_file = separated_file_dir / (piece_name+'_O.wav')\n",
    "        y_po_o, sr = lb.core.load(po_o_file)\n",
    "        F_po_o = lb.feature.chroma_cqt(y=y_po_o, sr=sr, hop_length=hop_length, norm=2)\n",
    "      \n",
    "        # compute subsequence DTW alignment (orchestra as query) \n",
    "        orch_start_sec, orch_end_sec = system_utils.get_orchestra_start_end_times(scenario_dir)\n",
    "        orch_start_frm = int(np.round(orch_start_sec * sr / hop_length))\n",
    "        orch_end_frm = int(np.round(orch_end_sec * sr / hop_length)) + 1\n",
    "        wp = align_tools.compute_dtw_alignment(1 - F_o[:,orch_start_frm:orch_end_frm].T @ F_po_o, steps, weights, subseq = True)\n",
    "        wp[0,:] = wp[0,:] + orch_start_frm  # account for offset\n",
    "\n",
    "        # save to cache\n",
    "        np.save(f'{cache_dir}/o_chroma.npy', F_o)\n",
    "        np.save(f'{cache_dir}/po_o_chroma.npy', F_po_o)\n",
    "        np.save(f'{cache_dir}/o_po_align.npy', wp)\n",
    "    return"
   ]
  },
  {
   "cell_type": "code",
   "execution_count": 4,
   "id": "c75fcf3e",
   "metadata": {},
   "outputs": [],
   "source": [
    "def verify_cache_dir(indir):\n",
    "    '''\n",
    "    Verifies that the specified cache directory has the required files.\n",
    "    \n",
    "    Inputs\n",
    "    indir: The cache directory to verify\n",
    "    '''\n",
    "\n",
    "    # Feature Files\n",
    "    assert os.path.exists(f'{indir}/o_chroma.npy'), f'Missing o_chroma.npy in {indir}'\n",
    "    assert os.path.exists(f'{indir}/po_o_chroma.npy'), f'Missing po_o_chroma.npy in {indir}'\n",
    "    assert os.path.exists(f'{indir}/o_po_align.npy'), f'Missing o_po_align.npy in {indir}'"
   ]
  },
  {
   "attachments": {},
   "cell_type": "markdown",
   "id": "588ee8df",
   "metadata": {},
   "source": [
    "## Online Processing"
   ]
  },
  {
   "attachments": {},
   "cell_type": "markdown",
   "id": "cedd6f21",
   "metadata": {},
   "source": [
    "In the online processing stage, we do two things:\n",
    "1. compute an online alignment between the piano and estimated piano using MATCH,\n",
    "2. use the predicted alignment to infer the alignment between the piano and orchestra recordings\n",
    "\n",
    "Note that step 1 is completed before we begin step 2.  This implementation is thus not a valid online system, but its performance nonetheless can tell us how well an online system would perform."
   ]
  },
  {
   "attachments": {},
   "cell_type": "markdown",
   "id": "953b48e1",
   "metadata": {},
   "source": [
    "### Software Installation"
   ]
  },
  {
   "attachments": {},
   "cell_type": "markdown",
   "id": "9a7a73c8",
   "metadata": {},
   "source": [
    "Using the MATCH algorithm requires a few pieces of software to be installed:\n",
    "- [Sonic Annotator](https://vamp-plugins.org/sonic-annotator/), a program for command-line processing of audio files\n",
    "- [the MATCH Vamp plugin](https://code.soundsoftware.ac.uk/projects/match-vamp/), an implementation of the MATCH algorithm which can be used in tandem with Sonic Annotator\n",
    "- the SoX command line audio utility tool"
   ]
  },
  {
   "attachments": {},
   "cell_type": "markdown",
   "id": "07bac0c7",
   "metadata": {},
   "source": [
    "Below, we will assume that the `sonic-annotator` and `sox` binaries can be called from command line, and that the MATCH Vamp plugin has been installed.  See [here](https://vamp-plugins.org/download.html#install) for instructions on how to install Vamp plugins."
   ]
  },
  {
   "attachments": {},
   "cell_type": "markdown",
   "id": "0d865c60",
   "metadata": {},
   "source": [
    "### Wrapper Implementation"
   ]
  },
  {
   "cell_type": "code",
   "execution_count": 5,
   "id": "9f22bfaa",
   "metadata": {},
   "outputs": [],
   "source": [
    "def online_processing(scenario_dir, out_dir, cache_dir, hop_sec, separation_dir, separation_alg, oracle = False):\n",
    "    '''\n",
    "    Carries out `online' processing using the MATCH algorithm.\n",
    "    \n",
    "    Inputs\n",
    "    scenario_dir: The scenario directory to process\n",
    "    out_dir: The directory to put results, intermediate files, and logging info\n",
    "    cache_dir: The cache directory\n",
    "    hop_sec: The hop size in sec used in the offline DTW stage\n",
    "    separation_dir: directory where the pre-separated files are stored\n",
    "    separation_alg: algorithm to separate the files with (must be a subdirectory within `separation_dir`)\n",
    "    oracle: boolean specifying if oracle information for query ending time should be used\n",
    "\n",
    "    This function will compute and save the predicted alignment in the output directory in a file hyp.npy\n",
    "    '''\n",
    "    # TODO: move this below `os.makedirs` and do the separation here instead of importing pre-separated files\n",
    "    separated_file_dir = Path(separation_dir) / 'separation' / Path(separation_alg)\n",
    "    piece_name = Path(cache_dir).name.split('_')\n",
    "    piece_name.pop(2)\n",
    "    piece_name = '_'.join(piece_name)\n",
    "    verify_separated_file(separated_file_dir, piece_name)\n",
    "    \n",
    "    # verify & setup\n",
    "    System_MATCH.verify_match_installation()\n",
    "    system_utils.verify_scenario_dir(scenario_dir)\n",
    "    verify_cache_dir(cache_dir)\n",
    "    assert not os.path.exists(out_dir), f'Output directory {out_dir} already exists.'\n",
    "    os.makedirs(out_dir)\n",
    "           \n",
    "    # determine the start time of the query in the orchestra recording (ground truth)\n",
    "    orch_start_sec, orch_end_sec = system_utils.get_orchestra_query_boundaries(scenario_dir)\n",
    "    \n",
    "    # infer the start time of the query in the full mix recording (estimated)\n",
    "    wp_BC_frm = np.flipud(np.load(f'{cache_dir}/o_po_align.npy'))\n",
    "    wp_BC_frm = np.hstack((np.array([0,0]).reshape((2,-1)), wp_BC_frm)) # prepend (0,0) to handle edge cases properly\n",
    "    wp_BC_sec = wp_BC_frm * hop_sec\n",
    "    fullmix_start_sec = np.interp(orch_start_sec, wp_BC_sec[1,:], wp_BC_sec[0,:])    \n",
    "    \n",
    "    # create audio recording of full mix containing the region of interest\n",
    "    fullmix_orig_filepath = separated_file_dir / (piece_name+'_P.wav')\n",
    "    fullmix_mod_filepath = f'{out_dir}/po_p_mod.wav'\n",
    "    if oracle:\n",
    "        # use both start and end locations\n",
    "        fullmix_end_sec = np.interp(orch_end_sec, wp_BC_sec[1,:], wp_BC_sec[0,:]) # estimate end time of query in full mix\n",
    "        # os.system(f'sox {fullmix_orig_filepath} {fullmix_mod_filepath} rate 22050 channels 1 trim {fullmix_start_sec} {fullmix_end_sec}')\n",
    "        subprocess.run(['sox', fullmix_orig_filepath, fullmix_mod_filepath, 'rate', '22050', 'channels', '1', 'trim', str(fullmix_start_sec), str(fullmix_end_sec)],\n",
    "                   check=True, stdout=subprocess.DEVNULL, stderr=subprocess.DEVNULL)\n",
    "    else:\n",
    "        # only use start location (continue until end of recording)\n",
    "        # os.system(f'sox {fullmix_orig_filepath} {fullmix_mod_filepath} rate 22050 channels 1 trim {fullmix_start_sec}')\n",
    "        subprocess.run(['sox', fullmix_orig_filepath, fullmix_mod_filepath, 'rate', '22050', 'channels', '1', 'trim', str(fullmix_start_sec)],\n",
    "                   check=True, stdout=subprocess.DEVNULL, stderr=subprocess.DEVNULL)\n",
    "    \n",
    "    # run MATCH plugin\n",
    "    piano_filepath = f'{scenario_dir}/p.wav'\n",
    "    match_align_filepath = f'{out_dir}/match_p_po.out'\n",
    "    # os.system(f'sonic-annotator -d vamp:match-vamp-plugin:match:b_a -m {piano_filepath} {fullmix_mod_filepath} -w csv --csv-stdout > {match_align_filepath}')    \n",
    "    with open(match_align_filepath, 'w') as f:\n",
    "        subprocess.run(['sonic-annotator', '-d', 'vamp:match-vamp-plugin:match:b_a', '-m', piano_filepath, fullmix_mod_filepath, '-w', 'csv', '--csv-stdout'],\n",
    "                       check=True, stdout=f, stderr=subprocess.DEVNULL)\n",
    "    \n",
    "    # infer piano-orchestra alignment\n",
    "    wp_AB_sec = System_MATCH.parse_match_outfile(match_align_filepath) # piano-fullmix alignment\n",
    "\n",
    "    duration = lb.get_duration(path=piano_filepath)\n",
    "    transposed = wp_AB_sec.transpose()\n",
    "    transposed = transposed[transposed[:, 0] < duration].transpose()\n",
    "    transposed[1,:] = transposed[1,:] + fullmix_start_sec # account for offset\n",
    "\n",
    "    wp_AC_sec = align_tools.infer_alignment(transposed, wp_BC_sec) \n",
    "    np.save(f'{out_dir}/hyp.npy', wp_AC_sec)\n",
    "\n",
    "    # save debugging info\n",
    "    np.save(f'{out_dir}/p_po_align.npy', transposed)\n",
    "    \n",
    "    return"
   ]
  },
  {
   "cell_type": "code",
   "execution_count": 6,
   "id": "1b46c315",
   "metadata": {},
   "outputs": [],
   "source": [
    "def verify_hyp_dir(indir):\n",
    "    '''\n",
    "    Verifies that the specified scenario hypothesis directory has the required files.\n",
    "    \n",
    "    Inputs\n",
    "    indir: The cache directory to verify\n",
    "    '''\n",
    "    assert os.path.exists(f'{indir}/hyp.npy'), f'{indir} is missing the required files, please re run the online processing'"
   ]
  },
  {
   "attachments": {},
   "cell_type": "markdown",
   "id": "2b28c8bb",
   "metadata": {},
   "source": [
    "# Example"
   ]
  },
  {
   "attachments": {},
   "cell_type": "markdown",
   "id": "5cd9f6c3",
   "metadata": {},
   "source": [
    "Here is an example of how to call the offline and online processing functions on a scenario directory."
   ]
  },
  {
   "cell_type": "code",
   "execution_count": null,
   "id": "985b3f7d",
   "metadata": {},
   "outputs": [],
   "source": [
    "# scenario_dir = 'scenarios/s2'\n",
    "# out_dir = 'experiments/test/s2'\n",
    "# cache_dir = 'experiments/test/cache'\n",
    "# hop_size = 512\n",
    "# steps = np.array([1,1,1,2,2,1]).reshape((-1,2))\n",
    "# weights = np.array([2,3,3], dtype=np.float64)\n",
    "# #offline_processing(scenario_dir, cache_dir, hop_size, steps, weights)\n",
    "# online_processing(scenario_dir, out_dir, cache_dir, hop_size / 22050)"
   ]
  }
 ],
 "metadata": {
  "kernelspec": {
   "display_name": "Python 3",
   "language": "python",
   "name": "python3"
  },
  "language_info": {
   "codemirror_mode": {
    "name": "ipython",
    "version": 3
   },
   "file_extension": ".py",
   "mimetype": "text/x-python",
   "name": "python",
   "nbconvert_exporter": "python",
   "pygments_lexer": "ipython3",
   "version": "3.9.16"
  }
 },
 "nbformat": 4,
 "nbformat_minor": 5
}
