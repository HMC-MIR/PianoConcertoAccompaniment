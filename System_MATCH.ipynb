{
 "cells": [
  {
   "cell_type": "markdown",
   "id": "a6a79b99",
   "metadata": {},
   "source": [
    "# MATCH"
   ]
  },
  {
   "cell_type": "markdown",
   "id": "0cb97f15",
   "metadata": {},
   "source": [
    "This notebook provides wrapper functions for calling the [MATCH algorithm](https://www.eecs.qmul.ac.uk/~simond/match/).  Running this algorithm requires installing some other software, which is described below.  This notebook implements the `offline_processing()` and `online_processing()` functions, which will be imported and run in `02_RunExperiment.ipynb`."
   ]
  },
  {
   "cell_type": "markdown",
   "id": "8ff6b5de",
   "metadata": {},
   "source": [
    "Here is a summary of the MATCH approach:\n",
    "- Offline processing: The orchestra and full mix recordings are aligned with standard DTW using chroma features.\n",
    "- Online processing: The solo piano and full mix recordings are aligned with the MATCH algorithm, and the predicted alignment is then used to infer the corresponding alignment between the piano and orchestra recordings."
   ]
  },
  {
   "cell_type": "markdown",
   "id": "70d1df11",
   "metadata": {},
   "source": [
    "## Offline Processing"
   ]
  },
  {
   "cell_type": "markdown",
   "id": "610e1142",
   "metadata": {},
   "source": [
    "The offline processing is the same as in the simple offline DTW system.  In the offline processing stage, three things are computed and stored in the `cache/` folder:\n",
    "- chroma features for the orchestra recording\n",
    "- chroma features for the full mix recording\n",
    "- predicted DTW alignment between the orchestra and full mix recordings\n",
    "\n"
   ]
  },
  {
   "cell_type": "code",
   "execution_count": null,
   "id": "f0653f0e",
   "metadata": {},
   "outputs": [],
   "source": [
    "import numpy as np\n",
    "import pandas as pd\n",
    "import import_ipynb\n",
    "import System_SimpleOfflineDTW\n",
    "import system_utils\n",
    "import os\n",
    "import os.path"
   ]
  },
  {
   "cell_type": "code",
   "execution_count": null,
   "id": "c8e6185d",
   "metadata": {},
   "outputs": [],
   "source": [
    "def offline_processing(scenario_dir, cache_dir, hop_length, steps, weights):\n",
    "    '''\n",
    "    Carries out the same offline processing steps as the simple offline DTW system.\n",
    "    \n",
    "    Inputs\n",
    "    scenario_dir: The scenario directory to process\n",
    "    cache_dir: The location of the cache directory\n",
    "    hop_length: The hop length in samples used when computing chroma features\n",
    "    steps: an L x 2 array specifying the allowable DTW transitions\n",
    "    weights: a length L array specifying the DTW transition weights\n",
    "    \n",
    "    This function will store the computed chroma features and estimated alignment in the cache folder.\n",
    "    '''\n",
    "    System_SimpleOfflineDTW.offline_processing(scenario_dir, cache_dir, hop_length, steps, weights)\n",
    "    \n",
    "    return"
   ]
  },
  {
   "cell_type": "markdown",
   "id": "588ee8df",
   "metadata": {},
   "source": [
    "## Online Processing"
   ]
  },
  {
   "cell_type": "markdown",
   "id": "cedd6f21",
   "metadata": {},
   "source": [
    "In the online processing stage, we do two things:\n",
    "1. compute an online alignment between the piano and full mix recordings using MATCH,\n",
    "2. use the predicted alignment to infer the alignment between the piano and orchestra recordings\n",
    "\n",
    "Note that step 1 is completed before we begin step 2.  This implementation is thus not a valid online system, but its performance nonetheless can tell us how well an online system would perform."
   ]
  },
  {
   "cell_type": "markdown",
   "id": "953b48e1",
   "metadata": {},
   "source": [
    "### Software Installation"
   ]
  },
  {
   "cell_type": "markdown",
   "id": "9a7a73c8",
   "metadata": {},
   "source": [
    "Using the MATCH algorithm requires a few pieces of software to be installed:\n",
    "- [Sonic Annotator](https://vamp-plugins.org/sonic-annotator/), a program for command-line processing of audio files\n",
    "- [the MATCH Vamp plugin](https://code.soundsoftware.ac.uk/projects/match-vamp/), an implementation of the MATCH algorithm which can be used in tandem with Sonic Annotator\n",
    "- the SoX command line audio utility tool"
   ]
  },
  {
   "cell_type": "markdown",
   "id": "07bac0c7",
   "metadata": {},
   "source": [
    "Below, we will assume that the `sonic-annotator` and `sox` binaries can be called from command line, and that the MATCH Vamp plugin has been installed.  See [here](https://vamp-plugins.org/download.html#install) for instructions on how to install Vamp plugins."
   ]
  },
  {
   "cell_type": "markdown",
   "id": "0d865c60",
   "metadata": {},
   "source": [
    "### Wrapper Implementation"
   ]
  },
  {
   "cell_type": "code",
   "execution_count": null,
   "id": "971a6a55",
   "metadata": {},
   "outputs": [],
   "source": [
    "def parse_match_outfile(infile):\n",
    "    '''\n",
    "    Parses the MATCH csv output file specifying the estimated alignment.\n",
    "    \n",
    "    Inputs\n",
    "    infile: filepath to the MATCH csv output file\n",
    "    \n",
    "    Returns a 2xN array indicating the estimated alignment in seconds.\n",
    "    '''\n",
    "    d = pd.read_csv(infile, header=None)\n",
    "    return np.vstack((d.loc[:,1], d.loc[:,2]))"
   ]
  },
  {
   "cell_type": "code",
   "execution_count": null,
   "id": "9f22bfaa",
   "metadata": {},
   "outputs": [],
   "source": [
    "def online_processing(scenario_dir, out_dir, cache_dir, hop_sec):\n",
    "    '''\n",
    "    Carries out `online' processing using the MATCH algorithm.\n",
    "    \n",
    "    Inputs\n",
    "    scenario_dir: The scenario directory to process\n",
    "    out_dir: The directory to put results, intermediate files, and logging info\n",
    "    cache_dir: The cache directory\n",
    "    hop_sec: The hop size in sec used in the offline DTW stage\n",
    "\n",
    "    This function will compute and save the predicted alignment in the output directory in a file hyp.npy\n",
    "    '''\n",
    "    \n",
    "    # verify & setup\n",
    "    system_utils.verify_scenario_dir(scenario_dir)\n",
    "    system_utils.verify_cache_dir(cache_dir)\n",
    "    assert not os.path.exists(out_dir)\n",
    "    os.makedirs(out_dir)\n",
    "           \n",
    "    # determine the start time of the query in the orchestra recording (ground truth)\n",
    "    orch_start_sec = system_utils.get_orchestra_start(scenario_dir)\n",
    "    \n",
    "    # infer the start time of the query in the full mix recording (estimated)\n",
    "    wp_BC_frm = np.load(f'{cache_dir}/po_o_align.npy')\n",
    "    wp_BC_sec = wp_BC_frm * hop_sec\n",
    "    fullmix_start_sec = np.interp(orch_start_sec, wp_BC_sec[1,:], wp_BC_sec[0,:])\n",
    "    \n",
    "    # create audio recording of full mix starting at the start location\n",
    "    fullmix_orig_filepath = f'{scenario_dir}/po.wav'\n",
    "    fullmix_mod_filepath = f'{out_dir}/po_mod.wav'\n",
    "    os.system(f'sox {fullmix_orig_filepath} {fullmix_mod_filepath} rate 44100 trim {fullmix_start_sec}')\n",
    "    \n",
    "    # run MATCH plugin\n",
    "    piano_filepath = f'{scenario_dir}/p.wav'\n",
    "    match_align_filepath = f'{out_dir}/match_p_po.out'\n",
    "    os.system(f'sonic-annotator -d vamp:match-vamp-plugin:match:b_a -m {piano_filepath} {fullmix_mod_filepath} -w csv --csv-stdout > {match_align_filepath}')    \n",
    "    \n",
    "    # infer piano-orchestra alignment\n",
    "    wp_AB_sec = parse_match_outfile(match_align_filepath) # piano-fullmix alignment\n",
    "    wp_AB_sec[1,:] = wp_AB_sec[1,:] + fullmix_start_sec # account for offset\n",
    "    wp_AC_sec = system_utils.infer_alignment(wp_AB_sec, wp_BC_sec) \n",
    "    np.save(f'{out_dir}/hyp.npy', wp_AC_sec)\n",
    "\n",
    "    return"
   ]
  },
  {
   "cell_type": "markdown",
   "id": "2b28c8bb",
   "metadata": {},
   "source": [
    "# Example"
   ]
  },
  {
   "cell_type": "markdown",
   "id": "5cd9f6c3",
   "metadata": {},
   "source": [
    "Here is an example of how to call the offline and online processing functions on a scenario directory."
   ]
  },
  {
   "cell_type": "code",
   "execution_count": null,
   "id": "985b3f7d",
   "metadata": {},
   "outputs": [],
   "source": [
    "# scenario_dir = 'scenarios/s2'\n",
    "# out_dir = 'experiments/test/s2'\n",
    "# cache_dir = 'experiments/test/cache'\n",
    "# hop_size = 512\n",
    "# steps = np.array([1,1,1,2,2,1]).reshape((-1,2))\n",
    "# weights = np.array([2,3,3], dtype=np.float64)\n",
    "# #offline_processing(scenario_dir, cache_dir, hop_size, steps, weights)\n",
    "# online_processing(scenario_dir, out_dir, cache_dir, hop_size / 22050)"
   ]
  }
 ],
 "metadata": {
  "kernelspec": {
   "display_name": "accompaniment",
   "language": "python",
   "name": "accompaniment"
  },
  "language_info": {
   "codemirror_mode": {
    "name": "ipython",
    "version": 3
   },
   "file_extension": ".py",
   "mimetype": "text/x-python",
   "name": "python",
   "nbconvert_exporter": "python",
   "pygments_lexer": "ipython3",
   "version": "3.7.13"
  }
 },
 "nbformat": 4,
 "nbformat_minor": 5
}
