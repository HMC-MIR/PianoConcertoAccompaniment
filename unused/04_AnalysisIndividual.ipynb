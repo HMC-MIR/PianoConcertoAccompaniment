{
 "cells": [
  {
   "attachments": {},
   "cell_type": "markdown",
   "metadata": {},
   "source": [
    "# Analyze Individual P-PO and O-PO Alignments"
   ]
  },
  {
   "cell_type": "code",
   "execution_count": null,
   "metadata": {},
   "outputs": [],
   "source": [
    "import numpy as np\n",
    "import matplotlib.pyplot as plt\n",
    "import pickle\n",
    "import os.path\n",
    "import IPython.display as ipd\n",
    "import import_ipynb\n",
    "import system_utils\n",
    "from pathlib import Path\n",
    "import eval_tools"
   ]
  },
  {
   "cell_type": "code",
   "execution_count": null,
   "metadata": {},
   "outputs": [],
   "source": [
    "annot_path = Path('annot')\n",
    "scenarios_path = Path('scenarios')"
   ]
  },
  {
   "attachments": {},
   "cell_type": "markdown",
   "metadata": {},
   "source": [
    "We only have beat annotations for some of the PO beat files (see `annot/`)."
   ]
  },
  {
   "cell_type": "code",
   "execution_count": null,
   "metadata": {},
   "outputs": [],
   "source": [
    "po_beat_files = ['bach5_mov1_PO2.beat', 'beeth1_mov1_PO1.beat', 'mozart21_mov1_PO2.beats', 'rach2_mov1_PO2.beats']\n",
    "\n",
    "po_beat_files = [annot_path / f for f in po_beat_files]\n",
    "po_beat_filenames = [f.stem for f in po_beat_files]"
   ]
  },
  {
   "cell_type": "code",
   "execution_count": null,
   "metadata": {},
   "outputs": [],
   "source": [
    "scenarios = system_utils.get_scenario_info('scenarios/scenarios.summary')"
   ]
  },
  {
   "attachments": {},
   "cell_type": "markdown",
   "metadata": {},
   "source": [
    "Filter out scenarios that don't have beat annotations."
   ]
  },
  {
   "cell_type": "code",
   "execution_count": null,
   "metadata": {},
   "outputs": [],
   "source": [
    "filtered_scenarios = {}\n",
    "\n",
    "for k, v in scenarios.items():\n",
    "    if Path(v['po']).stem in po_beat_filenames:\n",
    "        filtered_scenarios[k] = v"
   ]
  },
  {
   "cell_type": "code",
   "execution_count": null,
   "metadata": {},
   "outputs": [],
   "source": [
    "systems_to_compare = ['NaivePairwiseDTW', 'SeparatedDTW_SPL-PT', 'SeparatedDTW_SPL-TTA', 'SeparatedDTW_HDemucs', 'ISA_CHROMA', 'ISA_CQT', 'ISA_BCQT']\n",
    "eval_dirs = [Path('experiments')/s for s in systems_to_compare]"
   ]
  },
  {
   "cell_type": "code",
   "execution_count": null,
   "metadata": {},
   "outputs": [],
   "source": [
    "eval_results = {}\n",
    "\n",
    "for eval_dir in eval_dirs:\n",
    "    system_results = {\n",
    "        \"p-po\": {},\n",
    "        \"o-po\": {}\n",
    "    }\n",
    "    \n",
    "    for scenario_id, scenario_info in filtered_scenarios.items():\n",
    "        frames = False\n",
    "        align_offset = 0.0\n",
    "        if eval_dir.stem in ['ISA_CHROMA', 'ISA_CQT', 'ISA_BCQT', 'NaivePairwiseDTW']:\n",
    "            frames = True\n",
    "\n",
    "        po_file_name = Path(scenario_info['po']).stem\n",
    "        \n",
    "        system_results['p-po'][scenario_id] = eval_tools.calcAlignErrors_single(\n",
    "            eval_dir/scenario_id/'p_po_align.npy',\n",
    "            scenarios_path/scenario_id/'p.beats',\n",
    "            annot_path/(po_file_name + \".beats\"),\n",
    "            scenarios_path/scenario_id/'scenario.info',\n",
    "            frames=frames\n",
    "        )\n",
    "\n",
    "        o_po_folder_name = po_file_name[:po_file_name.find('_PO')] + '_O1_PO' + po_file_name[po_file_name.find('_PO') + 3:]\n",
    "        system_results['o-po'][scenario_id] = eval_tools.calcAlignErrors_single(\n",
    "            eval_dir/'cache'/o_po_folder_name/'o_po_align.npy',\n",
    "            scenarios_path/scenario_id/'o.beats',\n",
    "            annot_path/(po_file_name + \".beats\"),\n",
    "            scenarios_path/scenario_id/'scenario.info',\n",
    "            frames=True\n",
    "        )\n",
    "    \n",
    "    eval_results[eval_dir.stem] = system_results"
   ]
  },
  {
   "cell_type": "code",
   "execution_count": null,
   "metadata": {},
   "outputs": [],
   "source": [
    "eval_results['match']['o-po']['s79']"
   ]
  },
  {
   "cell_type": "code",
   "execution_count": null,
   "metadata": {},
   "outputs": [],
   "source": [
    "def plot_p_vs_po_alignment(eval_results, savefile=None, mainTol=200, maxTol=500, minTol=100):\n",
    "    bar_width = 0.1\n",
    "\n",
    "    for i, system in enumerate(eval_results.keys()):\n",
    "        # p vs. po alignment\n",
    "        p_errs = np.array([])\n",
    "        for scenario_id in eval_results[system]['p-po'].keys():\n",
    "            p_errs = np.concatenate((p_errs, eval_results[system]['p-po'][scenario_id][0]))\n",
    "\n",
    "        p_errRates = np.zeros(maxTol+1)\n",
    "        p_tols = np.arange(maxTol+1)\n",
    "\n",
    "        p_errs = np.abs(p_errs)\n",
    "        \n",
    "        for j in p_tols:\n",
    "            p_errRates[j] = np.mean(np.abs(p_errs) > j/1000)\n",
    "\n",
    "\n",
    "        # o vs. po alignment\n",
    "        o_errs = []\n",
    "        for scenario_id in eval_results[system]['o-po'].keys():\n",
    "            o_errs = np.concatenate((o_errs, eval_results[system]['o-po'][scenario_id][0]))\n",
    "\n",
    "        o_errRates = np.zeros(maxTol+1)\n",
    "        o_tols = np.arange(maxTol+1)\n",
    "\n",
    "        o_errs = np.abs(o_errs)\n",
    "        \n",
    "        for j in o_tols:\n",
    "            o_errRates[j] = np.mean(np.abs(o_errs) > j/1000)\n",
    "        \n",
    "        errs = np.array([p_errRates[mainTol], o_errRates[mainTol]]) * 100\n",
    "        pos = np.array([0, 1]) + i * bar_width\n",
    "\n",
    "        err_tol = [\n",
    "            [p_errRates[minTol], o_errRates[minTol]],\n",
    "            [p_errRates[maxTol], o_errRates[maxTol]]\n",
    "        ]\n",
    "        err_tol = np.array(err_tol) * 100\n",
    "\n",
    "        plt.bar(pos, errs, bar_width, label=system, zorder=10)\n",
    "        plt.scatter(pos, err_tol[0], c='black', s=40, zorder=10, label='_nolegend_', marker=\"_\")\n",
    "        plt.scatter(pos, err_tol[1], c='black', s=40, zorder=10, label='_nolegend_', marker=\"_\")\n",
    "        # plt.plot([pos[0], pos[0]], err_tol[:,0], c='black', zorder=10, label='_nolegend_')\n",
    "        # plt.plot([pos[1], pos[1]], err_tol[:,1], c='black', zorder=10, label='_nolegend_')\n",
    "        plt.xticks([r + bar_width*len(eval_results.keys())/2 for r in range(2)], ['p-po', 'o-po'])\n",
    "        \n",
    "    plt.ylabel('Error Rate (%)')\n",
    "    plt.xlabel('Error Tolerance (ms)')\n",
    "    plt.legend([os.path.basename(eval_dir) for eval_dir in eval_dirs], loc=(1.04, 0))\n",
    "    plt.grid(linestyle='--', zorder=-1.0, axis='y')\n",
    "    if savefile:\n",
    "        plt.savefig(savefile)"
   ]
  },
  {
   "cell_type": "code",
   "execution_count": null,
   "metadata": {},
   "outputs": [],
   "source": [
    "plot_p_vs_po_alignment(eval_results, minTol=100, mainTol=200, maxTol=500)"
   ]
  },
  {
   "cell_type": "code",
   "execution_count": null,
   "metadata": {},
   "outputs": [],
   "source": [
    "plot_p_vs_po_alignment(eval_results, minTol=100, mainTol=200, maxTol=500)"
   ]
  },
  {
   "cell_type": "code",
   "execution_count": null,
   "metadata": {},
   "outputs": [],
   "source": []
  }
 ],
 "metadata": {
  "kernelspec": {
   "display_name": "PianoConcertoAccompaniment",
   "language": "python",
   "name": "pianoconcertoaccompaniment"
  },
  "language_info": {
   "codemirror_mode": {
    "name": "ipython",
    "version": 3
   },
   "file_extension": ".py",
   "mimetype": "text/x-python",
   "name": "python",
   "nbconvert_exporter": "python",
   "pygments_lexer": "ipython3",
   "version": "3.9.18"
  }
 },
 "nbformat": 4,
 "nbformat_minor": 4
}
