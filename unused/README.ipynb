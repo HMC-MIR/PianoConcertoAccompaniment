{
 "cells": [
  {
   "cell_type": "markdown",
   "id": "534cc217-5586-4c58-89ab-621fa407f2f8",
   "metadata": {},
   "source": [
    "# Overview of Systems"
   ]
  },
  {
   "cell_type": "markdown",
   "id": "525d0378-697b-4f6f-8ae6-025110b65b59",
   "metadata": {},
   "source": [
    "The unused/ folder contains systems that we experimented with, but did not lead to promising results.  This notebook gives an overview of these systems."
   ]
  },
  {
   "cell_type": "markdown",
   "id": "aa3b5d4c-c94e-4767-ada3-5ce4a9252758",
   "metadata": {},
   "source": [
    "## System_SeparatedMATCH"
   ]
  },
  {
   "cell_type": "markdown",
   "id": "07265146-9cbf-4242-a473-35c29eb9eef8",
   "metadata": {},
   "source": [
    "Summary:\n",
    "- Assumes source separation has been performend on the PO recordings as a preprocessing step\n",
    "- Aligns O against the estimated O component of the PO recording using subsequence DTW with chroma features\n",
    "- Aligns P against the estimated P component of the PO recording using MATCH.  Assumes that we know the initial starting location in the O recording (and can estimate the corresponding location in the PO recording).\n",
    "- Infers P-O alignment\n",
    "\n",
    "Main findings:\n",
    "- This system is a reasonable baseline, but was abandoned because we switched our focus to a purely offline formulation of the problem.  It has been replaced by System_SeparatedDTW.ipynb"
   ]
  },
  {
   "cell_type": "markdown",
   "id": "527f7bf9-79ad-4da1-9400-39c2c51e9532",
   "metadata": {},
   "source": [
    "## System_MATCH"
   ]
  },
  {
   "cell_type": "markdown",
   "id": "8fff45a7-a122-4b75-898d-f9ca1a0d19c8",
   "metadata": {},
   "source": [
    "Summary:\n",
    "- Aligns O against the PO recording using subsequence DTW with chroma features\n",
    "- Aligns P against the PO recording using MATCH.  Assumes that we know the initial starting location in the O recording (and can estimate the corresponding location in the PO recording).\n",
    "- Infers P-O alignment\n",
    "\n",
    "Main findings:\n",
    "- This system is a reasonable baseline, but was abandoned because we switched our focus to a purely offline formulation of the problem.  It has been replaced by System_NaivePairwiseDTW.ipynb"
   ]
  },
  {
   "cell_type": "markdown",
   "id": "0ddcb70d-e829-4d62-8a50-9ccc8a749632",
   "metadata": {},
   "source": [
    "## System_PairwiseFSVEDTW"
   ]
  },
  {
   "cell_type": "markdown",
   "id": "301bfdb6-23c8-4932-83bd-48a12a3051f3",
   "metadata": {},
   "source": [
    "Summary:\n",
    "- Aligns O against the PO recording using subsequence DTW with chroma features\n",
    "- Aligns P against the PO recording using fixed-start variable-end DTW.  Assumes that we have oracle knowledge about the initial starting location in the O recording (and can estimate the corresponding location in the PO recording).\n",
    "- Infers P-O alignment\n",
    "\n",
    "Main findings:\n",
    "- This system is a reasonable baseline, but was abandoned because we switched our focus to a purely offline formulation of the problem.  It has been replaced by System_NaivePairwiseDTW.ipynb"
   ]
  },
  {
   "cell_type": "markdown",
   "id": "cd3a47bd-ca58-48ef-9a89-6c83889d7ffd",
   "metadata": {},
   "source": [
    "## System_OnlineGreedyMixtureDTW"
   ]
  },
  {
   "cell_type": "markdown",
   "id": "c74cfcb4-bcf0-4d74-b785-97af6692c4bb",
   "metadata": {},
   "source": [
    "Summary:\n",
    "- Tries to find a good path through a 3D cost tensor based on a mixture cost metric, where elements indicate the dissimilarity between P+O and PO frames\n",
    "- It does not actually compute a 3D cost tensor, however, but instead computes elements of the cost tensor on-the-fly, and then greedily selects the next best step\n",
    "\n",
    "Main findings:\n",
    "- We did not find any promising results with this idea."
   ]
  },
  {
   "cell_type": "markdown",
   "id": "b58baa70-a5d0-4b5f-be3e-b9451a8f61f4",
   "metadata": {},
   "source": [
    "## System_MixtureDTW3D"
   ]
  },
  {
   "cell_type": "markdown",
   "id": "94fd2672-a47f-4ae9-b3fe-b2d1877db812",
   "metadata": {},
   "source": [
    "Summary:\n",
    "- Computes a 3D cost tensor based on a mixture cost metric, where elements indicate the dissimilarity between P+O and PO features\n",
    "- Finds the optimal path through the 3D cost tensor using dynamic programming, where we assume that the path starts at the origin and ends at the opposite corner of the tensor\n",
    "\n",
    "Main findings:\n",
    "- Doing dynamic programming through a 3D cost tensor is very computationally expensive, so we had to downsample the features in order to achieve reasonable runtimes.\n",
    "- With the downsampled features, we did not get any good results."
   ]
  },
  {
   "cell_type": "markdown",
   "id": "7a9864a8-55e5-4b4c-b0fb-6cf0fe2d5a10",
   "metadata": {},
   "source": [
    "## System_MixtureSubseqDTW3D"
   ]
  },
  {
   "cell_type": "markdown",
   "id": "22cc68eb-40e5-43a4-a04a-72ce564247a4",
   "metadata": {},
   "source": [
    "Summary:\n",
    "- First computes P-PO alignment using subsequence DTW with chroma features.  The purpose of this is to select the matching region of PO, in order to reduce the size of the 3D cost tensor in the next step.\n",
    "- Computes a 3D cost tensor based on a mixture cost metric between P, O, and PO-match.  Elements of the cost tensor indicate the dissimilarity between P+O and PO features\n",
    "- Finds the optimal path through the 3D cost tensor using a subsequence 3D alignment algorithm, where we allow the path to start and end anywhere in the O recording.\n",
    "\n",
    "Main findings:\n",
    "- Doing dynamic programming through a 3D cost tensor is very computationally expensive, so we had to downsample the features in order to achieve reasonable runtimes.\n",
    "- With the downsampled features, we did not get any good results."
   ]
  },
  {
   "cell_type": "markdown",
   "id": "cecac0ea-c891-4074-af1c-8aba5039f602",
   "metadata": {},
   "source": [
    "## System_MixtureFlexDTW3D"
   ]
  },
  {
   "cell_type": "markdown",
   "id": "9b79cfbb-d724-4a8e-a38f-24817d7666ee",
   "metadata": {},
   "source": [
    "Summary:\n",
    "- Computes a 3D cost tensor based on a mixture cost metric between P, O, and PO.  Elements of the cost tensor indicate the dissimilarity between P+O and PO features\n",
    "- Finds the optimal path through the 3D cost tensor using a 3D FlexDTW alignment approach, where we allow the path to start anywhere on the three beginning faces and can end anywhere on the 3 opposite faces.\n",
    "\n",
    "Main findings:\n",
    "- Doing dynamic programming through a 3D cost tensor is very computationally expensive, so we had to downsample the features in order to achieve reasonable runtimes.\n",
    "- With the downsampled features, we did not get any good results."
   ]
  },
  {
   "cell_type": "markdown",
   "id": "b26f5d61-4ac9-473e-8330-cb5a995781b8",
   "metadata": {},
   "source": [
    "## System_AltPairwiseMixDTW"
   ]
  },
  {
   "cell_type": "markdown",
   "id": "5718ae2a-7fb5-404c-a5a6-a4548332059c",
   "metadata": {},
   "source": [
    "Summary:\n",
    "- Estimate initial P-PO and O-PO alignments using subsequence DTW with chroma features\n",
    "- Assuming the P-PO alignment is fixed, re-estimate the O-PO alignment.  This is done by adding the aligned P features to the O features, comparing to the PO features, and performing 2D subsequence DTW.\n",
    "- Assuming the O-PO alignment is fixed, re-estimate the P-PO alignment.  This is done by adding the aligned O features to the P features, comparing to the PO features, and performing 2D subsequence DTW.\n",
    "- Repeats steps 2 and 3 until convergence\n",
    "\n",
    "Main findings:\n",
    "- This approach is computationally very expensive since it requires running multiple iterations\n",
    "- The results were no better than a naive pairwise approach.  The results only got better by a miniscule amount."
   ]
  },
  {
   "cell_type": "markdown",
   "id": "f095260e-eb28-40be-a361-6dbccfea1a4a",
   "metadata": {},
   "source": [
    "## System_ExplBasedMixDTW"
   ]
  },
  {
   "cell_type": "markdown",
   "id": "9881f111-a6d6-483b-8574-d2c60bccc0cd",
   "metadata": {},
   "source": [
    "Summary:\n",
    "- Estimate the P-PO alignment using subsequence DTW with chroma features\n",
    "- Using the estimated alignment, calculate a baseline similarity between PO-match and the corresponding P features\n",
    "- Assuming a fixed P-PO alignment, calculate a 2D cost matrix using a mixture-based loss which indicates dissimilarity between O+P and PO\n",
    "- Calculate the difference between the mixture similarity (in step 3) and the baseline similarity (in step 2).  This describes how much adding O features improves our explanation of the PO features, compared to only using the P features.\n",
    "- Perform subsequence DTW through this 2D cost matrix.\n",
    "\n",
    "Main findings:\n",
    "- This approach is computationally very expensive and produced results worse than naive pairwise DTW."
   ]
  },
  {
   "cell_type": "markdown",
   "id": "ea2ee92c-1f3e-4ee2-b454-511acd89a3fe",
   "metadata": {},
   "source": [
    "## System_SeparatedSparse.ipynb"
   ]
  },
  {
   "cell_type": "markdown",
   "id": "d67efeba-5963-48e6-b96f-1becd7c3ccc9",
   "metadata": {},
   "source": [
    "Summary:\n",
    "- Perform source separation on the PO recording\n",
    "- Estimate the O-PO alignment by aligning O against the estimated O component in PO.  This alignment is done using dense-sparse DTW with selected features from the O recording (sparse) and all frames in the O_est sequence.\n",
    "- Estimate the P-PO alignment by aligning P against the estimated P component in PO.  Uses standard DTW with chroma features.\n",
    "\n",
    "Main findings:\n",
    "- Was worse than using dense-sparse DTW to directly estimate the O-PO alignment (without source separation)."
   ]
  },
  {
   "cell_type": "markdown",
   "id": "697ac22b-35f6-48b2-b5dd-8fea6d7a9984",
   "metadata": {},
   "source": [
    "## System_TimeSparse.ipynb"
   ]
  },
  {
   "cell_type": "markdown",
   "id": "22f15e7f-3eb9-4e26-a174-a8701768df13",
   "metadata": {},
   "source": [
    "Summary:\n",
    "- Train a GMM to model MFCC features in the P recording\n",
    "- Train a GMM to model MFCC features in the O recording\n",
    "- Classify frames in PO as either P or O using the two GMMs\n",
    "- Align classified P frames (from PO) against P using dense-sparse DTW with chroma features\n",
    "- Align classified O frames (from PO) against O using dense-sparse DTW with chroma features\n",
    "\"\n",
    "Main findings:\n",
    "- Yielded worse results than the naivePairwiseDTW approach."
   ]
  },
  {
   "cell_type": "code",
   "execution_count": null,
   "id": "8efc49fe-b288-47cc-a416-ad6685d61d93",
   "metadata": {},
   "outputs": [],
   "source": []
  }
 ],
 "metadata": {
  "kernelspec": {
   "display_name": "PianoConcertoAccompaniment",
   "language": "python",
   "name": "pianoconcertoaccompaniment"
  },
  "language_info": {
   "codemirror_mode": {
    "name": "ipython",
    "version": 3
   },
   "file_extension": ".py",
   "mimetype": "text/x-python",
   "name": "python",
   "nbconvert_exporter": "python",
   "pygments_lexer": "ipython3",
   "version": "3.9.18"
  }
 },
 "nbformat": 4,
 "nbformat_minor": 5
}
