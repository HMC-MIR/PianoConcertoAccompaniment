{
 "cells": [
  {
   "cell_type": "markdown",
   "id": "6813063e",
   "metadata": {},
   "source": [
    "# System Utilities"
   ]
  },
  {
   "cell_type": "markdown",
   "id": "1fc40f74",
   "metadata": {},
   "source": [
    "This notebook contains various utility functions that are used frequently in the notebooks that implement alignment systems."
   ]
  },
  {
   "cell_type": "code",
   "execution_count": null,
   "id": "12b2cf5c",
   "metadata": {},
   "outputs": [],
   "source": [
    "import numpy as np\n",
    "import os.path"
   ]
  },
  {
   "cell_type": "code",
   "execution_count": null,
   "id": "b171aa4b",
   "metadata": {},
   "outputs": [],
   "source": [
    "def verify_scenario_dir(indir):\n",
    "    '''\n",
    "    Verifies that the specified scenario directory has the required files.\n",
    "    \n",
    "    Inputs\n",
    "    indir: the scenario directory to verify\n",
    "    '''\n",
    "    assert os.path.exists(indir)\n",
    "    assert os.path.exists(f'{indir}/p.wav')\n",
    "    assert os.path.exists(f'{indir}/o.mp3')\n",
    "    assert os.path.exists(f'{indir}/po.mp3')"
   ]
  },
  {
   "cell_type": "code",
   "execution_count": null,
   "id": "ce51a96a",
   "metadata": {},
   "outputs": [],
   "source": [
    "def verify_cache_dir(indir):\n",
    "    '''\n",
    "    Verifies that the specified cache directory has the required files.\n",
    "    \n",
    "    Inputs\n",
    "    indir: The cache directory to verify\n",
    "    '''\n",
    "    assert os.path.exists(f'{indir}/o_chroma.npy')\n",
    "    assert os.path.exists(f'{indir}/po_chroma.npy')\n",
    "    assert os.path.exists(f'{indir}/po_o_align.npy')"
   ]
  },
  {
   "cell_type": "code",
   "execution_count": null,
   "id": "6ed58779",
   "metadata": {},
   "outputs": [],
   "source": [
    "def get_orchestra_start(scenario_dir):\n",
    "    '''\n",
    "    Determines the start time in the orchestra recording where the query begins.\n",
    "    \n",
    "    Inputs\n",
    "    scenario_dir: the directory containing the scenario information\n",
    "    \n",
    "    Returns the query start time in the orchestra recording, specified in seconds\n",
    "    '''\n",
    "    \n",
    "    info_file = f'{scenario_dir}/scenario.info'\n",
    "    assert os.path.exists(info_file)\n",
    "    \n",
    "    with open(info_file, 'r') as f:\n",
    "        parts = f.readline().split() # last field is start time in orchestra recording\n",
    "    orch_start_sec = float(parts[-1]) \n",
    "    \n",
    "    return orch_start_sec"
   ]
  },
  {
   "cell_type": "code",
   "execution_count": null,
   "id": "f8d20ab1",
   "metadata": {},
   "outputs": [],
   "source": [
    "def infer_alignment(wp1, wp2, frames=False, hop=0.02):\n",
    "    '''\n",
    "    Given alignments between recording pairs (A, B) and (B, C), infer the estimated alignment\n",
    "    between the pair (A, C).\n",
    "    \n",
    "    Inputs\n",
    "    wp1: The first warping path, specified as a 2 x N numpy array\n",
    "    wp2: The second warping path, specified as a 2 x M numpy array\n",
    "    frames: boolean specifying if the warping path is specified in frames (True) or seconds (False)\n",
    "    hop: the grid spacing used to perform interpolation\n",
    "    \n",
    "    Returns a 2 x L array containing the inferred alignment.\n",
    "    '''\n",
    "    \n",
    "    if frames:\n",
    "        instants_A = np.arange(wp1[0,-1] + 1) # all A frames\n",
    "    else:\n",
    "        instants_A = np.arange(0, wp1[0,-1] + hop, hop) # all A timestamps\n",
    "    instants_B_interp = np.interp(instants_A, wp1[0,:], wp1[1,:]) # infer corresponding B instants\n",
    "    instants_C_interp = np.interp(instants_B_interp, wp2[0,:], wp2[1,:]) # infer corresponding C instants\n",
    "    \n",
    "    return np.vstack((instants_A, instants_C_interp))"
   ]
  },
  {
   "cell_type": "code",
   "execution_count": null,
   "id": "82fa781b",
   "metadata": {},
   "outputs": [],
   "source": []
  }
 ],
 "metadata": {
  "kernelspec": {
   "display_name": "accompaniment",
   "language": "python",
   "name": "accompaniment"
  },
  "language_info": {
   "codemirror_mode": {
    "name": "ipython",
    "version": 3
   },
   "file_extension": ".py",
   "mimetype": "text/x-python",
   "name": "python",
   "nbconvert_exporter": "python",
   "pygments_lexer": "ipython3",
   "version": "3.7.13"
  }
 },
 "nbformat": 4,
 "nbformat_minor": 5
}
