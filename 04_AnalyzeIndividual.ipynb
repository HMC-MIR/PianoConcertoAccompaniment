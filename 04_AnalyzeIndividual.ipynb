{
 "cells": [
  {
   "attachments": {},
   "cell_type": "markdown",
   "metadata": {},
   "source": [
    "# Analyze Individual P-PO and O-PO Alignments"
   ]
  },
  {
   "cell_type": "code",
   "execution_count": 1,
   "metadata": {},
   "outputs": [],
   "source": [
    "import numpy as np\n",
    "import matplotlib.pyplot as plt\n",
    "import pickle\n",
    "import os.path\n",
    "import IPython.display as ipd\n",
    "import import_ipynb\n",
    "import system_utils"
   ]
  },
  {
   "cell_type": "code",
   "execution_count": null,
   "metadata": {},
   "outputs": [],
   "source": [
    "def plot_grouped_histogram1(df):\n",
    "    # Histogram grouped by tolerance\n",
    "    tol_200 = df[df[‘Tolerance’]==200]\n",
    "    tol_500 = df[df[‘Tolerance’]==500]\n",
    "    tol_100 = df[df[‘Tolerance’]==100]\n",
    "    # graph100 = sns.barplot(data=tol_100, x=“Global Time Warp”, y=“Error”, hue=“System”, edgecolor=“black”, linewidth=1)\n",
    "    graph200 = sns.barplot(data=tol_200, x=“Global Time Warp”, y=“Error”, hue=“System”, palette=“Paired”)\n",
    "    # graph500 = sns.barplot(data=tol_500, x=“Global Time Warp”, y=“Error”, hue=“System”, edgecolor=“black”, linewidth=1)\n",
    "    plt.xlabel(“Global Time Warp”, size=14)\n",
    "    plt.ylabel(“Error Rate”, size=14)\n",
    "    # plt.legend(labels=[‘DTW1’])\n",
    "    plt.legend(bbox_to_anchor=(1.05, 1), loc=2, borderaxespad=0.)\n",
    "    plt.grid()\n",
    "    plt.show()\n",
    "    return"
   ]
  }
 ],
 "metadata": {
  "kernelspec": {
   "display_name": "Python 3",
   "language": "python",
   "name": "python3"
  },
  "language_info": {
   "codemirror_mode": {
    "name": "ipython",
    "version": 3
   },
   "file_extension": ".py",
   "mimetype": "text/x-python",
   "name": "python",
   "nbconvert_exporter": "python",
   "pygments_lexer": "ipython3",
   "version": "3.9.16"
  },
  "orig_nbformat": 4
 },
 "nbformat": 4,
 "nbformat_minor": 2
}
